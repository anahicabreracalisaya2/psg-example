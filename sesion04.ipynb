{
 "cells": [
  {
   "cell_type": "code",
   "execution_count": 3,
   "id": "db75a610",
   "metadata": {},
   "outputs": [
    {
     "name": "stdout",
     "output_type": "stream",
     "text": [
      "Hola mundo desde notebook!\n"
     ]
    }
   ],
   "source": [
    "print(\"Hola mundo desde notebook!\")"
   ]
  },
  {
   "cell_type": "code",
   "execution_count": 10,
   "id": "fba6aea4",
   "metadata": {},
   "outputs": [
    {
     "name": "stdout",
     "output_type": "stream",
     "text": [
      "    *\n",
      "   ***\n",
      "  *****\n",
      " *******\n",
      "*********\n",
      "   |||\n"
     ]
    }
   ],
   "source": [
    "print(\"    *\")\n",
    "print(\"   ***\")\n",
    "print(\"  *****\")\n",
    "print(\" *******\")\n",
    "print(\"*********\")\n",
    "print(\"   |||\")"
   ]
  },
  {
   "cell_type": "markdown",
   "id": "51977ed7",
   "metadata": {},
   "source": [
    "# Sesion 04\n",
    "- mi primer notebook\n",
    "- Imprimir arbol\n",
    "- Crear Markdown\n",
    "- Subir a mi repositorio de GitHub\n"
   ]
  }
 ],
 "metadata": {
  "kernelspec": {
   "display_name": "Python 3",
   "language": "python",
   "name": "python3"
  },
  "language_info": {
   "codemirror_mode": {
    "name": "ipython",
    "version": 3
   },
   "file_extension": ".py",
   "mimetype": "text/x-python",
   "name": "python",
   "nbconvert_exporter": "python",
   "pygments_lexer": "ipython3",
   "version": "3.13.3"
  }
 },
 "nbformat": 4,
 "nbformat_minor": 5
}
