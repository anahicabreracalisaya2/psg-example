{
 "cells": [
  {
   "cell_type": "markdown",
   "id": "5a6ef29a",
   "metadata": {},
   "source": [
    "# Estructura de control de flujo\n",
    "## Sentencias iterativas\n"
   ]
  },
  {
   "cell_type": "code",
   "execution_count": null,
   "id": "3a0a2dd2",
   "metadata": {},
   "outputs": [],
   "source": [
    "## Secuencial o lineal\n",
    "primero = 1\n",
    "segundo = 2\n",
    "tercero = 3"
   ]
  },
  {
   "cell_type": "markdown",
   "id": "ed92a0ce",
   "metadata": {},
   "source": [
    "### Funcion RANGE"
   ]
  },
  {
   "cell_type": "code",
   "execution_count": null,
   "id": "6eb8b2d4",
   "metadata": {},
   "outputs": [],
   "source": [
    "range(5)\n",
    "range(0, 5)\n",
    "range(1,10,2)\n",
    "range(10, 0, -1)\n",
    "print(list(range(5)))\n"
   ]
  },
  {
   "cell_type": "markdown",
   "id": "035a015c",
   "metadata": {},
   "source": [
    "### Se declara FOR con range"
   ]
  },
  {
   "cell_type": "code",
   "execution_count": null,
   "id": "9f55653c",
   "metadata": {},
   "outputs": [],
   "source": [
    "for variable in range(inicio, fin, paso):\n",
    "    print(variable)"
   ]
  },
  {
   "cell_type": "markdown",
   "id": "2ce9ca48",
   "metadata": {},
   "source": [
    " Y no se debe hacer"
   ]
  },
  {
   "cell_type": "code",
   "execution_count": null,
   "id": "e50feadb",
   "metadata": {},
   "outputs": [],
   "source": [
    "# Fuera del ciclo\n",
    "for i in range(5):\n",
    "    print(i)\n",
    "print(i)"
   ]
  },
  {
   "cell_type": "code",
   "execution_count": null,
   "id": "b4386ebd",
   "metadata": {},
   "outputs": [],
   "source": [
    "# Estructura de control\n",
    "print (\"Inicio\")\n",
    "for i in range(5): # rango (0,5,1)\n",
    "    print(i)\n",
    "print (\"Fin\")\n",
    "## Ejemplo\n",
    "print (\"Ejemplo 1\")\n",
    "suma = 0\n",
    "for i in range(1, 11, 2): # 1, 3, 5, 7, 9\n",
    "    suma = suma + i #suma += i\n",
    "print(suma)\n",
    "# Ejemplo 1: sumar los números del 1 al 10 de 2 en 2\n",
    "print (\"Ejemplo 1\")\n",
    "suma = 0\n",
    "for i in range(1, 11, 2): # 1, 3, 5, 7, 9\n",
    "    suma = suma + i #suma += i\n",
    "print(suma)\n",
    "##Ejemplo 2: crear un árbol de navidad de 6 niveles\n",
    "\n",
    "print (\"Ejemplo 2\")\n",
    "for i in range(0, 6):\n",
    "    print(\" \"*(5-i) + \"*\"*i*2+\"*\")\n",
    "#Ejemplo 3: crear una serie de números cuadrados del 1 al 10\n",
    "\n",
    "print (\"Ejemplo 3\")\n",
    "for i in range(1, 11):\n",
    "    print(i**2, end=\" \")\n",
    "\n",
    "#Ejemplo 4: crear una lista de números pares del 1 al 10\n",
    "\n",
    "print (\"Ejemplo 4\")\n",
    "pares = []\n",
    "for i in range(0, 11, 2):\n",
    "    pares.append(i)\n",
    "print(pares)\n"
   ]
  },
  {
   "cell_type": "markdown",
   "id": "fb07efb3",
   "metadata": {},
   "source": [
    "## EJERCICIO\n",
    "### Ejercicio 1: imprimir los 10 primeros de la serie números cúbicos\n"
   ]
  },
  {
   "cell_type": "code",
   "execution_count": null,
   "id": "b252b8fd",
   "metadata": {},
   "outputs": [],
   "source": [
    "print (\"Ejercicio 1\")\n",
    "for i in range(1, 11):\n",
    "    print(i**3, end=\" \")"
   ]
  },
  {
   "cell_type": "markdown",
   "id": "2778e334",
   "metadata": {},
   "source": [
    "## FOR con secuencias\n"
   ]
  },
  {
   "cell_type": "code",
   "execution_count": null,
   "id": "352dc43c",
   "metadata": {},
   "outputs": [],
   "source": [
    "for variable in secuencia:\n",
    "    print(variable)\n",
    "# nombrar las variables\n",
    "for fruta in ['🍎','🍌','🍇','🍉']:\n",
    "    print(fruta)"
   ]
  },
  {
   "cell_type": "markdown",
   "id": "9e73ece0",
   "metadata": {},
   "source": [
    "### Ejemplos"
   ]
  },
  {
   "cell_type": "code",
   "execution_count": null,
   "id": "bb29e2f0",
   "metadata": {},
   "outputs": [],
   "source": [
    "\n",
    "#Ejemplo 5: imprimir los elementos de una lista fiestas\n",
    "print (\"Ejemplo 5\")\n",
    "fiesta = ['🎄','🎆','🎁','🎊','✨','🧨']\n",
    "for objeto in fiesta:\n",
    "    print(objeto)\n",
    "#Ejemplo 6: imprimir los elementos de una tupla de frutas separados por coma\n",
    "\n",
    "print (\"Ejemplo 6\")\n",
    "frutas =  ('🍅','🍇','🍈','🍉','🍊')\n",
    "for fruta in frutas:\n",
    "    print(fruta, end=\", \")\n",
    "\n",
    "#Ejemplo 7: imprimir los elementos de un diccionario\n",
    "\n",
    "print (\"Ejemplo 7\")\n",
    "frutas = {'🍅':'Tomate','🍇':'Uva','🍈':'Melón','🍉':'Sandía','🍊':'Naranja'}\n",
    "for clave in frutas:\n",
    "    print(clave, frutas[clave])\n",
    "\n",
    "#Ejemplo 8: imprimir los elementos del ciclo de vida de un pollo con flechas\n",
    "\n",
    "print (\"Ejemplo 8\")\n",
    "ciclo_vida = '🥚🐣🐥🐤🐔🍗'\n",
    "for etapa in ciclo_vida:\n",
    "    print(etapa, end=\"->\")\n"
   ]
  },
  {
   "cell_type": "markdown",
   "id": "81fc256d",
   "metadata": {},
   "source": [
    "## Recorrer elementos con indexacion\n"
   ]
  },
  {
   "cell_type": "code",
   "execution_count": null,
   "id": "77f05ef0",
   "metadata": {},
   "outputs": [],
   "source": [
    "#Ejemplo 9: Listar los elementos de la siguiente serie ['🐶','🐱','🐰','🐭']\n",
    "\n",
    "print (\"Ejemplo 9\")\n",
    "animales = ['🐶','🐱','🐰','🐭']\n",
    "for animal in animales:\n",
    "    print(animal)\n",
    "\n",
    "#Ejemplo 10: Listar los elementos de la siguiente serie ['🐶','🐱','🐰','🐭']\n",
    "\n",
    "print (\"Ejemplo 10\")\n",
    "animales = ['🐶','🐱','🐰','🐭']\n",
    "for i in range(len(animales)):\n",
    "    print(animales[i])\n",
    "\n",
    "#Ejemplo 11: Listar los elementos de la siguiente serie ['🐶','🐱','🐰','🐭']\n",
    "\n",
    "print (\"Ejemplo 11\")\n",
    "animales = ['🐶','🐱','🐰','🐭']\n",
    "for i, animal in enumerate(animales):\n",
    "    print(i, animal, animales[i])\n",
    "\n"
   ]
  },
  {
   "cell_type": "markdown",
   "id": "4fdfa22b",
   "metadata": {},
   "source": [
    "### Mediante enumerate()"
   ]
  },
  {
   "cell_type": "code",
   "execution_count": null,
   "id": "74d6f2b8",
   "metadata": {},
   "outputs": [],
   "source": [
    "enumerate(['🐶','🐱','🐰','🐭'])\n",
    "# Ejemplo 11,  Listar los elementos de la siguiente serie ['🐶','🐱','🐰','🐭']\n",
    "print (\"Ejemplo 11\")\n",
    "animales = ['🐶','🐱','🐰','🐭']\n",
    "for i, animal in enumerate(animales):\n",
    "    print(i, animal, animales[i])"
   ]
  },
  {
   "cell_type": "markdown",
   "id": "9b0e4dd6",
   "metadata": {},
   "source": [
    "### EJERCICIO 2"
   ]
  },
  {
   "cell_type": "code",
   "execution_count": null,
   "id": "7d5a03fd",
   "metadata": {},
   "outputs": [],
   "source": [
    "#Ejercicio 2: imprimir la cantidad de veces los elementos de la cadena '⚽🏀🏐🎱' de acuerdo a su posición más 1\n",
    "print (\"Ejercicio 2\")\n",
    "esferas = '⚽🏀🏐🎱'\n",
    "for i, esfera in enumerate(esferas):\n",
    "    print(esfera*(i+1))\n"
   ]
  },
  {
   "cell_type": "markdown",
   "id": "d54b1643",
   "metadata": {},
   "source": [
    "## Estructura de un WHILE\n",
    "\n"
   ]
  },
  {
   "cell_type": "code",
   "execution_count": null,
   "id": "ef696a5c",
   "metadata": {},
   "outputs": [],
   "source": [
    "while condicion:\n",
    "\n",
    "print(\"Código a ejecutar\")"
   ]
  },
  {
   "cell_type": "code",
   "execution_count": null,
   "id": "df57f427",
   "metadata": {},
   "outputs": [],
   "source": [
    "#Ejemplo 12: imprimir los números mientras sean menores o igual a 5 empezando desde 0\n",
    "\n",
    "print (\"Ejemplo 12\")\n",
    "i = 0\n",
    "while i <= 5:\n",
    "    print(i)\n",
    "    i += 1\n",
    "#Ejemplo 13 sumar los números mientras no se ingrese por teclado el número 0\n",
    "\n",
    "print (\"Ejemplo 13\")\n",
    "suma = 0\n",
    "numero = int(input(\"Ingrese un número: \"))\n",
    "while numero != 0:\n",
    "    suma += numero\n",
    "    numero = int(input(\"Ingrese un número: \"))\n",
    "print(suma)\n",
    "\n"
   ]
  },
  {
   "cell_type": "markdown",
   "id": "48569ba6",
   "metadata": {},
   "source": [
    "### EJERCICIO 3"
   ]
  },
  {
   "cell_type": "code",
   "execution_count": null,
   "id": "ac04d299",
   "metadata": {},
   "outputs": [],
   "source": [
    "#Ejercicio 3, Ingresa un número por teclado y genera un contador hasta 0, si el número es negativo no hace nada\n",
    "print (\"Ejercicio 3\")\n",
    "numero = int(input(\"Ingrese un número: \"))\n",
    "while numero >= 0:\n",
    "    print(numero)\n",
    "    numero -= 1\n"
   ]
  },
  {
   "cell_type": "markdown",
   "id": "3bf91a2d",
   "metadata": {},
   "source": [
    "## BREAK\n",
    "Ejemplo 14, De la siguiente lista de frutas imprimir los elementos hasta que se encuentre un gusano 🐛 con for\n"
   ]
  },
  {
   "cell_type": "code",
   "execution_count": null,
   "id": "78f26153",
   "metadata": {},
   "outputs": [],
   "source": [
    "frutas = ['🍎','🍌','🍇','🍉','🍊','🐛','🍋','🍍']\n",
    "print (\"Ejemplo 14\")\n",
    "for fruta in frutas:\n",
    "    if fruta == '🐛':\n",
    "        break\n",
    "    print(fruta)\n",
    "print (\"Fin\")\n",
    "#Con un WHILE\n",
    "frutas = ['🍎','🍌','🍇','🍉','🍊','🐛','🍋','🍍']\n",
    "print (\"Ejemplo 14\")\n",
    "i = \"\"\n",
    "while i != '🐛':\n",
    "    i = frutas.pop(0)\n",
    "    print(i)\n",
    "print (\"Fin\")\n",
    "#Ejemplo 15, Crear un ciclo infinito que imprima un contador incremental\n",
    "\n",
    "print (\"Ejemplo 15\")\n",
    "contador = 0\n",
    "while True:\n",
    "    print(contador)\n",
    "    contador += 1\n",
    "\n",
    "#Ejemplo 16, Crear un ciclo infinito que pida una cadena de texto la ponga en mayúsculas y la imprima hasta que se ingrese la palabra salir\n",
    "\n",
    "print (\"Ejemplo 16\")\n",
    "while True:\n",
    "    texto = input(\"Ingrese un texto: \")\n",
    "    if texto == 'salir':\n",
    "        break\n",
    "    print(texto.upper())\n",
    "print (\"Fin\")\n"
   ]
  },
  {
   "cell_type": "markdown",
   "id": "f146117f",
   "metadata": {},
   "source": [
    "### EJERCICIO 4"
   ]
  },
  {
   "cell_type": "code",
   "execution_count": null,
   "id": "32d5f4af",
   "metadata": {},
   "outputs": [],
   "source": [
    "#Ejercicio 4, Crear un ciclo infinito que reciba un número por teclado y verifique si es par o impar hasta que se ingrese el número 0\n",
    "print (\"Ejercicio 4\")\n",
    "while True:\n",
    "    numero = int(input(\"Ingrese un número: \"))\n",
    "    if numero == 0:\n",
    "        break\n",
    "    print (\"Par\" if numero % 2 == 0 else \"Impar\")\n"
   ]
  },
  {
   "cell_type": "markdown",
   "id": "9d2260af",
   "metadata": {},
   "source": [
    "### Estructura de una lista por comprensión\n",
    "\n"
   ]
  },
  {
   "cell_type": "code",
   "execution_count": null,
   "id": "cc841de3",
   "metadata": {},
   "outputs": [],
   "source": [
    "[expresion for variable in secuencia]\n"
   ]
  },
  {
   "cell_type": "markdown",
   "id": "95f2f2ba",
   "metadata": {},
   "source": [
    "\n",
    "### Estructura de una lista por comprensión y condicional\n"
   ]
  },
  {
   "cell_type": "code",
   "execution_count": null,
   "id": "a7a28564",
   "metadata": {},
   "outputs": [],
   "source": [
    "\n",
    "[expresion for variable in secuencia if condicion]"
   ]
  },
  {
   "cell_type": "code",
   "execution_count": null,
   "id": "d99feb28",
   "metadata": {},
   "outputs": [],
   "source": [
    "#Ejemplo 17, Crear una lista de los números pares del 2 al 10\n",
    "print (\"Ejemplo 17\")\n",
    "pares = [i for i in range(2, 11, 2)]\n",
    "print(pares)\n",
    "#Ejemplo 18, Crear una lista de los números pares del 2 al 10 con condicional\n",
    "\n",
    "print (\"Ejemplo 18\")\n",
    "pares = [i for i in range(2, 11) if i % 2 == 0]\n",
    "print(pares)\n",
    "\n",
    "#Ejemplo 19, Crear un diccionario números 2 al 10 donde si es par vale \"Par\" y si es impar valga \"Impar\"\n",
    "print (\"Ejemplo 19\")\n",
    "pares = {i: \"Par\" if i % 2 == 0 else \"Impar\" for i in range(2, 11)}\n",
    "print(pares)\n"
   ]
  },
  {
   "cell_type": "markdown",
   "id": "1910c236",
   "metadata": {},
   "source": [
    "## EJERCICIO 5\n",
    "Crear una tupla de los números impares del 1 al 10 usando una tupla por comprensión"
   ]
  },
  {
   "cell_type": "code",
   "execution_count": null,
   "id": "9eef9645",
   "metadata": {},
   "outputs": [],
   "source": [
    "print (\"Ejercicio 5\")\n",
    "impares = tuple(i for i in range(1, 11) if i % 2 != 0)\n",
    "print(impares)\n"
   ]
  },
  {
   "cell_type": "markdown",
   "id": "1a8c88a7",
   "metadata": {},
   "source": [
    "## Ciclos anidados\n",
    "Ejemplo 20, Imprimir las tablas de multiplicar del 1 y 2\n"
   ]
  },
  {
   "cell_type": "code",
   "execution_count": null,
   "id": "c9f543ea",
   "metadata": {},
   "outputs": [],
   "source": [
    "print (\"Ejemplo 20\")\n",
    "for i in range(1, 3):\n",
    "    print(f\"Tabla del {i}\")\n",
    "    for j in range(1, 11):\n",
    "        print(f\"{i} x {j} = {i*j}\")\n",
    "#Ejemplo 21, Introducir un número por teclado y crear una tabla de multiplicar de ese número del 1 al 10, si se ingresa 0 termina el programa\n",
    "\n",
    "print (\"Ejemplo 21\")\n",
    "while True:\n",
    "    numero = int(input(\"Ingrese un número: \"))\n",
    "    if numero == 0:\n",
    "        break\n",
    "    print(f\"Tabla del {numero}\")\n",
    "    for i in range(1, 11):\n",
    "        print(f\"{numero} x {i} = {numero*i}\")\n",
    "print (\"Fin\")\n"
   ]
  },
  {
   "cell_type": "markdown",
   "id": "3fa7fd04",
   "metadata": {},
   "source": [
    "## MATRICES"
   ]
  },
  {
   "cell_type": "code",
   "execution_count": null,
   "id": "03997d65",
   "metadata": {},
   "outputs": [
    {
     "name": "stdout",
     "output_type": "stream",
     "text": [
      "1 2 3 \n",
      "4 5 6 \n",
      "7 8 9 \n",
      "Ejemplo 22\n"
     ]
    }
   ],
   "source": [
    "matriz = [[1, 2, 3], [4, 5, 6], [7, 8, 9]]\n",
    "for fila in matriz:\n",
    "    for columna in fila:\n",
    "        print(columna, end=\" \")\n",
    "    print()\n",
    "#Ejemplo 22, Introducir un número por teclado y crear una matriz nxn con la letra X\n",
    "print (\"Ejemplo 22\")\n",
    "n = int(input(\"Ingrese un número: \"))\n",
    "matriz = [['X' for i in range(n)] for j in range(n)]\n",
    "for fila in matriz:\n",
    "    for columna in fila:\n",
    "        print(columna, end=\" \")\n",
    "    print()\n",
    "print (matriz)\n",
    "#Ejercicio 6, Crear una matriz ingresando un número por teclado \n",
    "# para el tamaño de la matriz y en cada posición colocar una tupla con (i, j)\n",
    "print (\"Ejercicio 6\")\n",
    "n = int(input(\"Ingrese un número: \"))\n",
    "matriz = [[(j, i) for i in range(n)] for j in range(n)]\n",
    "for fila in matriz:\n",
    "    for columna in fila:\n",
    "        print(columna, end=\" \")\n",
    "    print()\n",
    "print (matriz)\n"
   ]
  }
 ],
 "metadata": {
  "kernelspec": {
   "display_name": "Python 3",
   "language": "python",
   "name": "python3"
  },
  "language_info": {
   "codemirror_mode": {
    "name": "ipython",
    "version": 3
   },
   "file_extension": ".py",
   "mimetype": "text/x-python",
   "name": "python",
   "nbconvert_exporter": "python",
   "pygments_lexer": "ipython3",
   "version": "3.13.3"
  }
 },
 "nbformat": 4,
 "nbformat_minor": 5
}
