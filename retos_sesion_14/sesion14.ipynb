{
 "cells": [
  {
   "cell_type": "markdown",
   "id": "ea3f04f9",
   "metadata": {},
   "source": [
    "# FUNCIONES\n",
    "## ESTRUCTURA\n"
   ]
  },
  {
   "cell_type": "code",
   "execution_count": null,
   "id": "4428ce55",
   "metadata": {},
   "outputs": [
    {
     "name": "stdout",
     "output_type": "stream",
     "text": [
      "Bloque de código\n",
      "Bloque de código\n"
     ]
    }
   ],
   "source": [
    "def nombre_funcion():\n",
    "    print (\"Bloque de código\")\n",
    " \n",
    "nombre_funcion()\n",
    "### Funciones sin argumentos ni retornos\n",
    "def funcion():\n",
    "    print (\"Bloque de código\")\n",
    " \n",
    "funcion()\n",
    "### Se deben definir antes de ser llamadas\n",
    "\n",
    "def nombre_funcion():\n",
    "    print (\"Bloque de código\")\n",
    "\n",
    "nombre_funcion()\n",
    "\n",
    "### Función sin argumentos ni retornos\n",
    "def funcion():\n",
    "    print (\"Bloque de código\")\n",
    "\n",
    "funcion()"
   ]
  },
  {
   "cell_type": "markdown",
   "id": "3168fb52",
   "metadata": {},
   "source": [
    "### Ejemplo 1, Crear una función para imprimir una lista de 10 números pares y llamarla dos veces\n"
   ]
  },
  {
   "cell_type": "code",
   "execution_count": 2,
   "id": "2d40dae3",
   "metadata": {},
   "outputs": [
    {
     "name": "stdout",
     "output_type": "stream",
     "text": [
      "Ejemplo 1\n",
      "1. Definir función\n",
      "2. Llamar función\n",
      "[0, 2, 4, 6, 8, 10, 12, 14, 16, 18, 20]\n",
      "[0, 2, 4, 6, 8, 10, 12, 14, 16, 18, 20]\n"
     ]
    }
   ],
   "source": [
    "print (\"Ejemplo 1\")\n",
    "print (\"1. Definir función\")\n",
    "def imprimir_pares():\n",
    "    pares = [i for i in range(0, 21, 2)]\n",
    "    print (pares)\n",
    " \n",
    "print (\"2. Llamar función\")\n",
    "imprimir_pares()\n",
    "imprimir_pares()\n"
   ]
  },
  {
   "cell_type": "markdown",
   "id": "aa3b83f9",
   "metadata": {},
   "source": [
    "## Ejercicio 1, crear una función que imprima un mensaje de bienvenida del siguiente conjunto de forma aleatoria\n",
    "\n"
   ]
  },
  {
   "cell_type": "code",
   "execution_count": 3,
   "id": "7d177fb1",
   "metadata": {},
   "outputs": [
    {
     "name": "stdout",
     "output_type": "stream",
     "text": [
      "¡Hola y bienvenido al Python Study Group! ✨\n"
     ]
    }
   ],
   "source": [
    "def bienvenida():\n",
    "    mensajes = {\"Bienvenido al Python Study Group 🐍\",\n",
    "    \"¡Hola y bienvenido al Python Study Group! ✨\",\n",
    "    \"Hola, aprendamos Python juntos 🐍\"}\n",
    "    print (mensajes.pop())\n",
    "\n",
    "bienvenida()"
   ]
  },
  {
   "cell_type": "markdown",
   "id": "11d2e7f3",
   "metadata": {},
   "source": [
    "## FUNCINES SIN ARGUMENTOS Y CON UN RETRONO\n",
    "\n"
   ]
  },
  {
   "cell_type": "code",
   "execution_count": null,
   "id": "1288bf47",
   "metadata": {},
   "outputs": [],
   "source": [
    "def funcion():\n",
    "    return \"Bloque de código\"\n",
    "\n",
    "resultado = funcion()\n",
    "print (resultado)"
   ]
  },
  {
   "cell_type": "markdown",
   "id": "871134ba",
   "metadata": {},
   "source": [
    "\n",
    "### Ejemplo 2, Crear una función que devuelva un saludo en diferentes idiomas\n"
   ]
  },
  {
   "cell_type": "code",
   "execution_count": 4,
   "id": "abd15db0",
   "metadata": {},
   "outputs": [
    {
     "name": "stdout",
     "output_type": "stream",
     "text": [
      "Ejemplo 2\n",
      "1. Definir función\n",
      "2. Llamar función\n",
      "Hello\n"
     ]
    }
   ],
   "source": [
    "print (\"Ejemplo 2\")\n",
    "print (\"1. Definir función\")\n",
    "def saludo():\n",
    "    saludos = {\"Hola\", \"Hello\", \"Bonjour\", \"Ciao\"}\n",
    "    return saludos.pop()\n",
    " \n",
    "print (\"2. Llamar función\")\n",
    "resultado = saludo()\n",
    "print (resultado)\n"
   ]
  },
  {
   "cell_type": "markdown",
   "id": "a48a05ec",
   "metadata": {},
   "source": [
    "\n",
    "## Ejercicio 2, Devolver una fruta aleatoria del siguiente conjunto"
   ]
  },
  {
   "cell_type": "code",
   "execution_count": null,
   "id": "c396a11e",
   "metadata": {},
   "outputs": [
    {
     "name": "stdout",
     "output_type": "stream",
     "text": [
      "🍌\n"
     ]
    }
   ],
   "source": [
    "# Solución 1\n",
    "frutas = {'🍅','🍌','🍎','🍇','🍉'}\n",
    "# Solucion 2\n",
    "def devolver_fruta():\n",
    "    frutas = {'🍅','🍌','🍎','🍇','🍉'}\n",
    "    return frutas.pop()\n",
    "\n",
    "fruta = devolver_fruta()\n",
    "print (fruta)\n"
   ]
  },
  {
   "cell_type": "markdown",
   "id": "16abd327",
   "metadata": {},
   "source": [
    "## FUNCIONES SIN ARGUMENTOS Y CON MULTIPLE RETORNO\n"
   ]
  },
  {
   "cell_type": "code",
   "execution_count": null,
   "id": "66ceaf19",
   "metadata": {},
   "outputs": [
    {
     "name": "stdout",
     "output_type": "stream",
     "text": [
      "('Bloque', 'de', 'código')\n",
      "Ejemplo 3\n",
      "1. Definir función\n"
     ]
    }
   ],
   "source": [
    "def funcion():\n",
    "    return \"Bloque\", \"de\", \"código\"\n",
    "\n",
    "resultado = funcion()\n",
    "print (resultado)\n"
   ]
  },
  {
   "cell_type": "markdown",
   "id": "23f58eb5",
   "metadata": {},
   "source": [
    "### Ejemplo 3, Crear una función que devuelva un saludo en dos idiomas\n"
   ]
  },
  {
   "cell_type": "code",
   "execution_count": null,
   "id": "5245d4b0",
   "metadata": {},
   "outputs": [
    {
     "name": "stdout",
     "output_type": "stream",
     "text": [
      "2. Llamar función\n",
      "('Holi', 'Hi')\n"
     ]
    }
   ],
   "source": [
    "# Ejemplo 3, Crear una función que devuelva un saludo en dos idiomas\n",
    "print (\"Ejemplo 3\")\n",
    "print (\"1. Definir función\")\n",
    "def saludo():\n",
    "    saludos_es = {\"Hola\", \"Holi\", \"Buenos días\"}\n",
    "    saludos_en = {\"Hello\", \"Hi\", \"Good morning\"}\n",
    "    return saludos_es.pop(), saludos_en.pop()\n",
    "\n",
    "print (\"2. Llamar función\")\n",
    "resultado = saludo()\n",
    "print (resultado)"
   ]
  },
  {
   "cell_type": "markdown",
   "id": "6ebca345",
   "metadata": {},
   "source": [
    "### Ejercicio 3, Devolver una fruta y un color aleatorio de los siguientes conjunto\n",
    "\n"
   ]
  },
  {
   "cell_type": "code",
   "execution_count": null,
   "id": "a5c229e8",
   "metadata": {},
   "outputs": [
    {
     "name": "stdout",
     "output_type": "stream",
     "text": [
      "🍌 🟠\n"
     ]
    }
   ],
   "source": [
    "frutas = {'🍅','🍌','🍎','🍇','🍉'}\n",
    "colores = {'🔴','🟠','🟡','🟢','🔵'}\n",
    "def devolver_fruta_color():\n",
    "    frutas = {'🍅','🍌','🍎','🍇','🍉'}\n",
    "    colores = {'🔴','🟠','🟡','🟢','🔵'}\n",
    "    return frutas.pop(), colores.pop()\n",
    "\n",
    "fruta, color = devolver_fruta_color()\n",
    "print (fruta, color)"
   ]
  },
  {
   "cell_type": "markdown",
   "id": "0a9ca656",
   "metadata": {},
   "source": [
    "## FUNCIONES CON UN ARGUMENTO Y SIN RETORNO\n",
    "\n",
    "Estructura:\n"
   ]
  },
  {
   "cell_type": "code",
   "execution_count": null,
   "id": "d0ff8c4b",
   "metadata": {},
   "outputs": [],
   "source": [
    "def funcion(parametro):\n",
    "\n",
    "print (parametro)\n",
    "\n",
    "funcion(\"Bloque de código\") #1 Argumento"
   ]
  },
  {
   "cell_type": "markdown",
   "id": "952627c8",
   "metadata": {},
   "source": [
    "### Ejemplo 4, Crear una función que imprima el cuadrado de un número\n"
   ]
  },
  {
   "cell_type": "code",
   "execution_count": 9,
   "id": "5be56ffe",
   "metadata": {},
   "outputs": [
    {
     "name": "stdout",
     "output_type": "stream",
     "text": [
      "Ejemplo 4\n",
      "1. Definir función\n",
      "2. Llamar función\n",
      "25\n",
      "100\n"
     ]
    }
   ],
   "source": [
    "print (\"Ejemplo 4\")\n",
    "print (\"1. Definir función\")\n",
    "def cuadrado(numero):\n",
    "    print (numero**2)\n",
    " \n",
    "print (\"2. Llamar función\")\n",
    "cuadrado(5)\n",
    "cuadrado(10)\n"
   ]
  },
  {
   "cell_type": "markdown",
   "id": "1d97393e",
   "metadata": {},
   "source": [
    "### Ejercicio 4, Crear una función que imprima el mensaje de bienvenida de acuerdo al un idioma enviado como argumento, si no existe imprimir un mensaje por defecto\n"
   ]
  },
  {
   "cell_type": "code",
   "execution_count": null,
   "id": "0eb526f9",
   "metadata": {},
   "outputs": [
    {
     "name": "stdout",
     "output_type": "stream",
     "text": [
      "Bienvenido al Python Study Group 🐍\n",
      "Hello and welcome to the Python Study Group! ✨\n",
      "¡Hola!\n"
     ]
    }
   ],
   "source": [
    "mensajes = {\"es\":\"Bienvenido al Python Study Group 🐍\",\n",
    "\"en\": \"Hello and welcome to the Python Study Group! ✨\",\n",
    "}\n",
    "# Solución 4\n",
    "def bienvenida(idioma):\n",
    "    mensajes = {\n",
    "        \"es\":\"Bienvenido al Python Study Group 🐍\",\n",
    "        \"en\": \"Hello and welcome to the Python Study Group! ✨\",\n",
    "    }\n",
    "    print (mensajes.get(idioma, \"¡Hola!\"))\n",
    "\n",
    "bienvenida(\"es\")\n",
    "bienvenida(\"en\")\n",
    "bienvenida(\"fr\")"
   ]
  },
  {
   "cell_type": "markdown",
   "id": "f44e6fab",
   "metadata": {},
   "source": [
    "## FUNCIONES CON MÚLTIPLES ARGUMENTOS Y SIN RETORNO\n",
    "### Estructura\n",
    "\n"
   ]
  },
  {
   "cell_type": "code",
   "execution_count": null,
   "id": "140f86bb",
   "metadata": {},
   "outputs": [],
   "source": [
    "def funcion(param1, param2, ...,  paramN):\n",
    "\n",
    "  print (param1, param2, ..., paramN)\n",
    "\n",
    "funcion(\"Bloque\", \"de\", \"código\")\n"
   ]
  },
  {
   "cell_type": "markdown",
   "id": "2e2ba01f",
   "metadata": {},
   "source": [
    "### Ejemplo 5, Crear una función que reciba una cadena y un entero y repita la cadena el número de veces"
   ]
  },
  {
   "cell_type": "code",
   "execution_count": 11,
   "id": "b2b272d3",
   "metadata": {},
   "outputs": [
    {
     "name": "stdout",
     "output_type": "stream",
     "text": [
      "Ejemplo 5\n",
      "1. Definir función\n",
      "2. Llamar función\n",
      "✨🎉✨🎉✨🎉✨🎉✨🎉✨🎉✨🎉✨🎉✨🎉✨🎉\n"
     ]
    }
   ],
   "source": [
    "\n",
    "print (\"Ejemplo 5\")\n",
    "print (\"1. Definir función\")\n",
    "def repetir(cadena, veces):\n",
    "    print (cadena*veces)\n",
    " \n",
    "print (\"2. Llamar función\")\n",
    "repetir(\"✨🎉\", 10)"
   ]
  },
  {
   "cell_type": "markdown",
   "id": "1b5092ef",
   "metadata": {},
   "source": [
    "### Ejercicio 5, Crear una función que reciba una lista de animales, un entero e imprima una lista con los animales repetidos el número de veces"
   ]
  },
  {
   "cell_type": "code",
   "execution_count": null,
   "id": "6c7c238a",
   "metadata": {},
   "outputs": [
    {
     "name": "stdout",
     "output_type": "stream",
     "text": [
      "['🐶🐶🐶', '🐱🐱🐱', '🐭🐭🐭', '🐹🐹🐹', '🐰🐰🐰']\n",
      "('Holi', 'Hi')\n"
     ]
    }
   ],
   "source": [
    "# Entrada\n",
    "animales = ['🐶','🐱','🐭','🐹','🐰']\n",
    "# Salida\n",
    "animales = ['🐶🐶🐶', '🐱🐱🐱', '🐭🐭🐭', '🐹🐹🐹', '🐰🐰🐰']\n",
    "# Solución 5\n",
    "def repetir_animales(animales, veces):\n",
    "    lista = [animal*veces for animal in animales]\n",
    "    print (lista)\n",
    "\n",
    "animales = ['🐶','🐱','🐭','🐹','🐰']\n",
    "repetir_animales(animales, 3)\n",
    "\n",
    "print (resultado)\n"
   ]
  },
  {
   "cell_type": "markdown",
   "id": "5640342e",
   "metadata": {},
   "source": [
    "## FUNCIONES CON MÚLTIPLEAS ARGUMENTOS Y CON UN RETORNO\n",
    "### Estructura\n"
   ]
  },
  {
   "cell_type": "code",
   "execution_count": null,
   "id": "2829bdfd",
   "metadata": {},
   "outputs": [],
   "source": [
    "def funcion(param1, param2, paramN):\n",
    "\n",
    " return param1\n",
    "\n",
    "resultado = funcion(\"Bloque\", \"de\", \"código\")\n",
    "\n",
    "print (resultado)\n",
    "\n"
   ]
  },
  {
   "cell_type": "markdown",
   "id": "ffcf3ae1",
   "metadata": {},
   "source": [
    "### Ejemplo 6, Crear una función que reciba dos números y devuelva una lista con la suma, resta, multiplicación y división de los números"
   ]
  },
  {
   "cell_type": "code",
   "execution_count": 13,
   "id": "029e187e",
   "metadata": {},
   "outputs": [
    {
     "name": "stdout",
     "output_type": "stream",
     "text": [
      "Ejemplo 6\n",
      "1. Definir función\n",
      "2. Llamar función\n",
      "[15, 5, 50, 2.0]\n"
     ]
    }
   ],
   "source": [
    "\n",
    "print (\"Ejemplo 6\")\n",
    "print (\"1. Definir función\")\n",
    "def operaciones(numero1, numero2):\n",
    "    suma = numero1 + numero2\n",
    "    resta = numero1 - numero2\n",
    "    multiplicacion = numero1 * numero2\n",
    "    division = numero1 / numero2\n",
    "    return [suma, resta, multiplicacion, division]\n",
    " \n",
    "print (\"2. Llamar función\")\n",
    "resultado = operaciones(10, 5)\n",
    "print (resultado)\n"
   ]
  },
  {
   "cell_type": "markdown",
   "id": "7acc989f",
   "metadata": {},
   "source": [
    "### Ejercicio 6, Crear una función que reciba dos enteros y una cadena devolver el resultado de la operación de los números según la cadena puede ser suma, resta, multiplicación o división\n",
    "\n"
   ]
  },
  {
   "cell_type": "code",
   "execution_count": 14,
   "id": "dfb1210f",
   "metadata": {},
   "outputs": [
    {
     "name": "stdout",
     "output_type": "stream",
     "text": [
      "15\n"
     ]
    }
   ],
   "source": [
    "def operacion(numero1, numero2, operacion):\n",
    "    if operacion == \"suma\":\n",
    "        return numero1 + numero2\n",
    "    elif operacion == \"resta\":\n",
    "        return numero1 - numero2\n",
    "    elif operacion == \"multiplicacion\":\n",
    "        return numero1 * numero2\n",
    "    elif operacion == \"division\":\n",
    "        return numero1 / numero2\n",
    "    else:\n",
    "        return \"Operación no válida\"\n",
    "\n",
    "resultado = operacion(10, 5, \"suma\")\n",
    "print (resultado)"
   ]
  },
  {
   "cell_type": "markdown",
   "id": "e4b388c0",
   "metadata": {},
   "source": [
    "## FUNCIONES CON MÚLTIPLEAS ARGUMENTOS Y CON MÚLTIPLE RETORNO\n",
    "### Estructura\n"
   ]
  },
  {
   "cell_type": "code",
   "execution_count": null,
   "id": "34457231",
   "metadata": {},
   "outputs": [],
   "source": [
    "def funcion(param1, param2, ..., paramN):\n",
    "\n",
    "   return param1, param2, ..., paramN\n",
    "\n",
    "resultado = funcion(\"Bloque\", \"de\", \"código\")\n",
    "\n",
    "print (resultado)\n"
   ]
  },
  {
   "cell_type": "markdown",
   "id": "582f095a",
   "metadata": {},
   "source": [
    "### Ejemplo 7, Crear una función que reciba dos números y devuelva la suma, resta, multiplicación y división de los dos números\n"
   ]
  },
  {
   "cell_type": "code",
   "execution_count": 15,
   "id": "6e1e8651",
   "metadata": {},
   "outputs": [
    {
     "name": "stdout",
     "output_type": "stream",
     "text": [
      "Ejemplo 7\n",
      "1. Definir función\n",
      "2. Llamar función\n",
      "15 5 50 2.0\n"
     ]
    }
   ],
   "source": [
    "print (\"Ejemplo 7\")\n",
    "print (\"1. Definir función\")\n",
    "def operaciones(numero1, numero2):\n",
    "    suma = numero1 + numero2\n",
    "    resta = numero1 - numero2\n",
    "    multiplicacion = numero1 * numero2\n",
    "    division = numero1 / numero2\n",
    "    return suma, resta, multiplicacion, division\n",
    " \n",
    "print (\"2. Llamar función\")\n",
    "suma, resta, multiplicacion, division = operaciones(10, 5)\n",
    "print (suma, resta, multiplicacion, division)\n"
   ]
  },
  {
   "cell_type": "markdown",
   "id": "188e6137",
   "metadata": {},
   "source": [
    "### Ejercicio 7, Crear una juego de piedra papel o tijera, donde reciba dos jugadas por teclado y devuelva las jugadas y el resultado, si ingresa salir terminar el juego\n"
   ]
  },
  {
   "cell_type": "code",
   "execution_count": null,
   "id": "ac7d4af8",
   "metadata": {},
   "outputs": [],
   "source": [
    "def jugar_piedra_papel_tijera(jugada1, jugada2):\n",
    "    if jugada1 == jugada2:\n",
    "        resultado = \"Empate\"\n",
    "    elif jugada1 == \"piedra\" and jugada2 == \"tijera\":\n",
    "        resultado = \"Jugador 1 gana\"\n",
    "    elif jugada1 == \"papel\" and jugada2 == \"piedra\":\n",
    "        resultado = \"Jugador 1 gana\"\n",
    "    elif jugada1 == \"tijera\" and jugada2 == \"papel\":\n",
    "        resultado = \"Jugador 1 gana\"\n",
    "    else:\n",
    "        resultado = \"Jugador 2 gana\"\n",
    "    return jugada1, jugada2, resultado\n",
    "\n",
    "while True:\n",
    "    jugador1 = input(\"Jugador 1: \")\n",
    "    if jugador1 == \"salir\":\n",
    "        break\n",
    "    jugador2 = input(\"Jugador 2: \")\n",
    "    if jugador2 == \"salir\":\n",
    "        break\n",
    "    resultado = jugar_piedra_papel_tijera(jugador1, jugador2)\n",
    "    print (resultado)\n"
   ]
  },
  {
   "cell_type": "markdown",
   "id": "8406787f",
   "metadata": {},
   "source": [
    "## VARIABLES GLOBALES Y LOCALES\n"
   ]
  },
  {
   "cell_type": "code",
   "execution_count": null,
   "id": "9993e74c",
   "metadata": {},
   "outputs": [],
   "source": [
    "variable_global = \"Variable global\"\n",
    "\n",
    "def funcion():\n",
    "    variable_local = \"Variable local\"\n",
    "    print (\"✨\",variable_global)\n",
    "    print (\"✨\",variable_local)\n",
    "\n",
    "funcion()\n",
    "print (\"🎈\",variable_global)\n",
    "print (\"🎈\",variable_local)\n"
   ]
  },
  {
   "cell_type": "markdown",
   "id": "19e6c7d9",
   "metadata": {},
   "source": [
    "## PRIORIDAD"
   ]
  },
  {
   "cell_type": "code",
   "execution_count": null,
   "id": "77417409",
   "metadata": {},
   "outputs": [],
   "source": [
    "variable = \"Variable global\"\n",
    "print ('0.',variable)\n",
    "\n",
    "def funcion():\n",
    "    variable = \"Variable local\"\n",
    "    print ('1.',variable)\n",
    "\n",
    "funcion()\n",
    "print ('2.',variable)\n"
   ]
  },
  {
   "cell_type": "markdown",
   "id": "f7a9eca3",
   "metadata": {},
   "source": [
    "### Ejemplo 8, De la siguiente lista de números obtener el mayor y menor número con una función\n"
   ]
  },
  {
   "cell_type": "code",
   "execution_count": null,
   "id": "3e689ad2",
   "metadata": {},
   "outputs": [],
   "source": [
    "numeros = [10, 5, 20, 15, 25, 30] #Global\n",
    "\n",
    "def mayor_menor(): #No recibe argumentos\n",
    "    mayor = max(numeros) #Local\n",
    "    menor = min(numeros) #Local\n",
    "    return mayor, menor #Devuelve dos valores\n",
    "\n",
    "resultado = mayor_menor()\n",
    "print (resultado)\n"
   ]
  },
  {
   "cell_type": "markdown",
   "id": "b7c0fba9",
   "metadata": {},
   "source": [
    "### Ejercicio 8, De la siguiente cadena global convertir en formato título y contar las vocales aeiou con una función\n"
   ]
  },
  {
   "cell_type": "code",
   "execution_count": null,
   "id": "4b069414",
   "metadata": {},
   "outputs": [],
   "source": [
    "\n",
    "def formato_vocales():\n",
    "    titulo = cadena.title()\n",
    "    vocales = sum([1 for letra in titulo if letra in \"aeiouAEIOU\"])\n",
    "    return titulo, vocales\n",
    "\n",
    "cadena = \"python es un lenguaje de programación\"\n",
    "resultado = formato_vocales()\n",
    "\n",
    "print (resultado)"
   ]
  },
  {
   "cell_type": "markdown",
   "id": "d75b4c4a",
   "metadata": {},
   "source": [
    "### ARG Y KWARGS\n",
    "## Estructura\n"
   ]
  },
  {
   "cell_type": "code",
   "execution_count": null,
   "id": "637c3534",
   "metadata": {},
   "outputs": [],
   "source": [
    "def funcion(*args):\n",
    " \n",
    "  print (args)\n",
    " \n",
    "  print (type(args))\n",
    "\n",
    "funcion(\"Bloque\", \"de\", \"código\")\n",
    "\n"
   ]
  },
  {
   "cell_type": "markdown",
   "id": "f1128881",
   "metadata": {},
   "source": [
    "### Ejemplo 9 Crear una función que reciba un número y una cantidad de cadenas, concatene las cadenas y la devuelva repetida N veces"
   ]
  },
  {
   "cell_type": "code",
   "execution_count": null,
   "id": "6e2f9b39",
   "metadata": {},
   "outputs": [],
   "source": [
    "print (\"Ejemplo 9\")\n",
    "print (\"1. Definir función\")\n",
    "def concatenar(numero, *cadenas):\n",
    "    concatenado = \"\"\n",
    "    for cadena in cadenas:\n",
    "        concatenado += cadena\n",
    "    return concatenado*numero\n",
    " \n",
    "print (\"2. Llamar función\")\n",
    "resultado = concatenar(3, \"🍎\", \"🍌\", \"🍍\")\n",
    "print (resultado)"
   ]
  },
  {
   "cell_type": "markdown",
   "id": "9d734c21",
   "metadata": {},
   "source": [
    "## Ejercicio 9, Crear una función que reciba N objetos y genere una tupla y una lista con los objetos usando *args\n"
   ]
  },
  {
   "cell_type": "code",
   "execution_count": null,
   "id": "52ef4586",
   "metadata": {},
   "outputs": [],
   "source": [
    "1, 1.1, True, \"🍎\"\n",
    "\n",
    "def tupla_lista(*args):\n",
    "    tupla = tuple(args)\n",
    "    lista = list(args)\n",
    "    return tupla, lista\n",
    "\n",
    "lista, tupla = tupla_lista(1, 1.1, True, \"🍎\")\n",
    "\n",
    "print (lista)\n",
    "print (tupla)"
   ]
  },
  {
   "cell_type": "markdown",
   "id": "4578910d",
   "metadata": {},
   "source": [
    "## KWARGS\n",
    "### Estructura\n",
    "\n"
   ]
  },
  {
   "cell_type": "code",
   "execution_count": null,
   "id": "0f76b3ac",
   "metadata": {},
   "outputs": [],
   "source": [
    "def funcion(**kwargs):\n",
    "\n",
    "  print (kwargs)\n",
    "\n",
    "  print (type(kwargs))\n",
    "\n",
    "funcion(nombre=\"Jhon\", apellido=\"Doe\", genero=\"M\")\n",
    "\n",
    "\n"
   ]
  },
  {
   "cell_type": "markdown",
   "id": "7736ba89",
   "metadata": {},
   "source": [
    "### Ejemplo 10, Crear una función que reciba los datos de una persona y devuelva un mensaje con los datos"
   ]
  },
  {
   "cell_type": "code",
   "execution_count": null,
   "id": "aa654567",
   "metadata": {},
   "outputs": [],
   "source": [
    "\n",
    "print (\"Ejemplo 10\")\n",
    "print (\"1. Definir función\")\n",
    "def datos_persona(**datos):\n",
    "    mensaje = \"\"\n",
    "    for clave, valor in datos.items():\n",
    "        mensaje += f\"{str(clave).title()}: {str(valor).upper()}\\n\"\n",
    "    return mensaje\n",
    "print (\"2. Llamar función\")\n",
    "resultado = datos_persona(nombre=\"Jhon\", apellido=\"Doe\", edad=20, boliviano=True)\n",
    "print (resultado)"
   ]
  },
  {
   "cell_type": "markdown",
   "id": "cf3eac87",
   "metadata": {},
   "source": [
    "### Ejercicio 10, Crea un simulador de lavar platos con una función que reciba los objetos a lavar y el tiempo de lavado de cada objeto devuelva un mensaje con los objetos lavados y el tiempo total de lavado\n"
   ]
  },
  {
   "cell_type": "code",
   "execution_count": null,
   "id": "aa1ed0e0",
   "metadata": {},
   "outputs": [],
   "source": [
    "# Plato: 5 minutos, Vaso: 3 minutos, Tenedor: 1 minuto, Cuchara: 0.5 minutos\n",
    "def lavar(**objetos):\n",
    "    tiempo_total = 0\n",
    "    mensaje = \"\"\n",
    "    for objeto, tiempo in objetos.items():\n",
    "        tiempo_total += tiempo\n",
    "        mensaje += f\"{objeto}: {tiempo} minutos\\n\"\n",
    "    mensaje += f\"Tiempo total: {tiempo_total} minutos\"\n",
    "    return mensaje\n",
    "\n",
    "resultado = lavar(plato=5, vaso=3, tenedor=1, cuchara=0.5)\n",
    "print (resultado)"
   ]
  },
  {
   "cell_type": "markdown",
   "id": "705fa579",
   "metadata": {},
   "source": [
    "\n",
    "## DOCUMENTACIÓN DE FUNCIONES\n",
    "### Estructura\n"
   ]
  },
  {
   "cell_type": "code",
   "execution_count": null,
   "id": "4feb940e",
   "metadata": {},
   "outputs": [],
   "source": [
    "def funcion():\n",
    "\n",
    "   \"\"\"\n",
    "\n",
    "   Documentación aquí\n",
    "\n",
    "   \"\"\"\n",
    "   \n",
    "   print (\"Bloque de código\")\n"
   ]
  },
  {
   "cell_type": "markdown",
   "id": "979e09fe",
   "metadata": {},
   "source": [
    "## Acceso a la documentación con .__doc__"
   ]
  },
  {
   "cell_type": "code",
   "execution_count": null,
   "id": "94277169",
   "metadata": {},
   "outputs": [],
   "source": [
    "print (\"Acceso a la documentación\")\n",
    "def funcion():\n",
    "    \"\"\"\n",
    "    Documentación aquí\n",
    "    \"\"\"\n",
    "    print (\"Bloque de código\")\n",
    "print (funcion.__doc__)\n",
    "print (\"Fin de la ejecución\")\n"
   ]
  },
  {
   "cell_type": "markdown",
   "id": "ec8b2165",
   "metadata": {},
   "source": [
    "## LLAMADO DE FUNCIONES DENTRO DE FUNCIONES\n",
    "### Ejemplo 11, Crear tres funciones una principal que reciba un número y dos funciones anidadas que devuelvan el cuadrado y el cubo del número\n"
   ]
  },
  {
   "cell_type": "code",
   "execution_count": null,
   "id": "71e560c5",
   "metadata": {},
   "outputs": [],
   "source": [
    "print (\"Ejemplo 11\")\n",
    "print (\"1. Definir función Principal\")\n",
    "def principal(numero):\n",
    "    cuadrado = cuadrado_numero(numero)\n",
    "    cubo = cubo_numero(numero)\n",
    "    return cuadrado, cubo\n",
    " \n",
    "print (\"2. Definir función Cuadrado\")\n",
    "def cuadrado_numero(numero):\n",
    "    return numero**2\n",
    " \n",
    "print (\"3. Definir función Cubo\")\n",
    "def cubo_numero(numero):\n",
    "    return numero**3\n",
    " \n",
    "print (\"4. Llamar función Principal\")\n",
    "numero = 5\n",
    "resultado = principal(numero)\n",
    "print (numero, resultado)\n",
    "\n"
   ]
  },
  {
   "cell_type": "markdown",
   "id": "53cf58a2",
   "metadata": {},
   "source": [
    "### Ejercicio 11, Crear funciones de limpieza de una cadena para obtener las letras y convertir todo en mayúsculas crea funciones de limpieza y función una principal\n"
   ]
  },
  {
   "cell_type": "code",
   "execution_count": null,
   "id": "77443df8",
   "metadata": {},
   "outputs": [],
   "source": [
    "# cadena = \"Python es un lenguaje de programación 🎈. Feliz Aprendizaje el 2025\"\n",
    "\n",
    "def limpiar_letras(cadena):\n",
    "    \"\"\"\n",
    "    Elimina los números de una cadena y espacios\n",
    "    \"\"\"\n",
    "    return \"\".join([letra for letra in cadena if letra.isalpha()])\n",
    "def limpiar_mayusculas(cadena):\n",
    "    \"\"\"\n",
    "    Convierte una cadena en mayúsculas\n",
    "    \"\"\"\n",
    "    return cadena.upper()\n",
    "\n",
    "def limpiar(cadena):\n",
    "    cadena = limpiar_letras(cadena)\n",
    "    cadena = limpiar_mayusculas(cadena)\n",
    "    return cadena\n",
    "\n",
    "cadena = \"Python es un lenguaje de programación 🎈. Feliz Aprendizaje el 2025\"\n",
    "resultado = limpiar(cadena)\n",
    "print (cadena)\n",
    "print (resultado)"
   ]
  },
  {
   "cell_type": "markdown",
   "id": "259c7e4d",
   "metadata": {},
   "source": [
    "## FUNCIONES RECURSIVAS\n",
    "### Estructura\n"
   ]
  },
  {
   "cell_type": "code",
   "execution_count": null,
   "id": "ad9596b6",
   "metadata": {},
   "outputs": [],
   "source": [
    "def funcion_recursiva(valor):\n",
    "\n",
    "   if caso_base:\n",
    "\n",
    "  return valor\n",
    "  \n",
    "   else:\n",
    "  \n",
    "  return funcion_recursiva(valor)\n",
    "\n"
   ]
  },
  {
   "cell_type": "markdown",
   "id": "bcdff093",
   "metadata": {},
   "source": [
    "### Ejemplo 12, Crear una función recursiva para obtener el 10 número par"
   ]
  },
  {
   "cell_type": "code",
   "execution_count": null,
   "id": "76ef728e",
   "metadata": {},
   "outputs": [],
   "source": [
    "\n",
    "print (\"Ejemplo 12\")\n",
    "print (\"1. Definir función\")\n",
    "def numero_par(numero):\n",
    "    if numero == 0:\n",
    "        return 0\n",
    "    else:\n",
    "        return numero_par(numero-1) + 2\n",
    " \n",
    "print (\"2. Llamar función\")\n",
    "resultado = numero_par(10)\n",
    "print (resultado)"
   ]
  },
  {
   "cell_type": "markdown",
   "id": "09f37471",
   "metadata": {},
   "source": [
    "### Ejercicio 12, Crear una función recursiva para obtener el factorial de un número\n"
   ]
  },
  {
   "cell_type": "code",
   "execution_count": null,
   "id": "9619128e",
   "metadata": {},
   "outputs": [],
   "source": [
    "def factorial(numero):\n",
    "    if numero == 0:\n",
    "        return 1\n",
    "    else:\n",
    "        return numero*factorial(numero-1)\n",
    "\n",
    "resultado = factorial(5)\n",
    "print (resultado)\n"
   ]
  },
  {
   "cell_type": "markdown",
   "id": "9722e7da",
   "metadata": {},
   "source": [
    "## FUNCIONES ANONIMAS O LAMBDA\n",
    "### Estructura\n"
   ]
  },
  {
   "cell_type": "code",
   "execution_count": null,
   "id": "1f225a1b",
   "metadata": {},
   "outputs": [],
   "source": [
    "lambda argumento: expresión"
   ]
  },
  {
   "cell_type": "markdown",
   "id": "9c76a5c9",
   "metadata": {},
   "source": [
    "### Ejecución de una función"
   ]
  },
  {
   "cell_type": "code",
   "execution_count": null,
   "id": "84497dcd",
   "metadata": {},
   "outputs": [],
   "source": [
    "def nombre_funcion():\n",
    "    print (\"Bloque de código\")\n",
    "\n",
    "nombre_funcion()\n"
   ]
  },
  {
   "cell_type": "markdown",
   "id": "05988535",
   "metadata": {},
   "source": [
    "### Bloque de codigo"
   ]
  },
  {
   "cell_type": "code",
   "execution_count": null,
   "id": "8e955c2a",
   "metadata": {},
   "outputs": [],
   "source": [
    "nombre_funcion()\n",
    "\n",
    "def nombre_funcion():\n",
    "    print (\"Bloque de código\")"
   ]
  },
  {
   "cell_type": "markdown",
   "id": "fa32c4cb",
   "metadata": {},
   "source": [
    "### Ejemplo 13, Crear una función anónima para obtener el cuadrado de un número"
   ]
  },
  {
   "cell_type": "code",
   "execution_count": null,
   "id": "8f66eeb0",
   "metadata": {},
   "outputs": [],
   "source": [
    "print (\"Ejemplo 13\")\n",
    "cuadrado = lambda numero: numero**2\n",
    "resultado = cuadrado(5)\n",
    "print (resultado)\n",
    "resultado = cuadrado(10)\n",
    "print (resultado)"
   ]
  },
  {
   "cell_type": "markdown",
   "id": "fd2d7155",
   "metadata": {},
   "source": [
    "### Ejercicio 13, Crear una función anónima para obtener de una cadena las letras solo los alfanuméricos y convertir en mayúsculas"
   ]
  },
  {
   "cell_type": "code",
   "execution_count": null,
   "id": "39cad89d",
   "metadata": {},
   "outputs": [],
   "source": [
    "\n",
    "cadena = \"Python es un lenguaje de programación\"\n",
    "limpiar = lambda cadena: \"\".join([letra for letra in cadena if letra.isalnum()]).upper()\n",
    "resultado = limpiar(cadena)\n",
    "print (cadena)\n",
    "print (resultado)\n"
   ]
  }
 ],
 "metadata": {
  "kernelspec": {
   "display_name": "Python 3",
   "language": "python",
   "name": "python3"
  },
  "language_info": {
   "codemirror_mode": {
    "name": "ipython",
    "version": 3
   },
   "file_extension": ".py",
   "mimetype": "text/x-python",
   "name": "python",
   "nbconvert_exporter": "python",
   "pygments_lexer": "ipython3",
   "version": "3.13.3"
  }
 },
 "nbformat": 4,
 "nbformat_minor": 5
}
