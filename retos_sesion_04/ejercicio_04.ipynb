{
 "cells": [
  {
   "cell_type": "markdown",
   "id": "9364d7b3",
   "metadata": {},
   "source": [
    "# DESTAPA TU VERDAD\n",
    "- Es un juego de dos a mas personas \n",
    "- se usa un dado de 6 caras\n",
    "- comienza el que saque el número mas alto en la primera lanzada de dados\n",
    "- Si en el tablero le taca a un jugador un numero impar debe sacar una tarjeta de \"RETO\"\n",
    "- Si en el tablero le taca a un jugador un numero par debe sacar una tarjeta de \"VERDAD\"\n",
    "- Si no cumpre con el RETO o la VERDAD debe retroceder el doble de la cantidad que saco en los dados\n",
    "- Gana el jugador que alcance el número 100\n",
    "   "
   ]
  },
  {
   "cell_type": "code",
   "execution_count": null,
   "id": "ad6913fd",
   "metadata": {},
   "outputs": [],
   "source": [
    "\n",
    "print(\"+-----+-----+-----+-----+-----+-----+-----+-----+-----+-----+\")\n",
    "print(\"|  100 |  99 |  98 |  97 |  96 |  95 |  94 |  93 |  92 |  91 |\")\n",
    "print(\"+-----+-----+-----+-----+-----+-----+-----+-----+-----+-----+\")\n",
    "print(\"|  81 |  82 |  83 |  84 |  85 |  86 |  87 |  88 |  89 |  90 |\")\n",
    "print(\"+-----+-----+-----+-----+-----+-----+-----+-----+-----+-----+\")\n",
    "print(\"|  80 |  79 |  78 |  77 |  76 |  75 |  74 |  73 |  72 |  71 |\")\n",
    "print(\"+-----+-----+-----+-----+-----+-----+-----+-----+-----+-----+\")\n",
    "print(\"|  61 |  62 |  63 |  64 |  65 |  66 |  67 |  68 |  69 |  70 |\")\n",
    "print(\"+-----+-----+-----+-----+-----+-----+-----+-----+-----+-----+\")\n",
    "print(\"|  60 |  59 |  58 |  57 |  56 |  55 |  54 |  53 |  52 |  51 |\")\n",
    "print(\"+-----+-----+-----+-----+-----+-----+-----+-----+-----+-----+\")\n",
    "print(\"|  41 |  42 |  43 |  44 |  45 |  46 |  47 |  48 |  49 |  50 |\")\n",
    "print(\"+-----+-----+-----+-----+-----+-----+-----+-----+-----+-----+\")\n",
    "print(\"|  40 |  39 |  38 |  37 |  36 |  35 |  34 |  33 |  32 |  31 |\")\n",
    "print(\"+-----+-----+-----+-----+-----+-----+-----+-----+-----+-----+\")\n",
    "print(\"|  21 |  22 |  23 |  24 |  25 |  26 |  27 |  28 |  29 |  30 |\")\n",
    "print(\"+-----+-----+-----+-----+-----+-----+-----+-----+-----+-----+\")\n",
    "print(\"|  20 |  19 |  18 |  17 |  16 |  15 |  14 |  13 |  12 |  11 |\")\n",
    "print(\"+-----+-----+-----+-----+-----+-----+-----+-----+-----+-----+\")\n",
    "print(\"|   1 |   2 |   3 |   4 |   5 |   6 |   7 |   8 |   9 |  10 |\")\n",
    "print(\"+-----+-----+-----+-----+-----+-----+-----+-----+-----+-----+\")\n"
   ]
  },
  {
   "cell_type": "markdown",
   "id": "0a749965",
   "metadata": {},
   "source": [
    "# Piezas\n",
    "La piezas son:\n",
    "- un pez\n",
    "- un raton\n",
    "- un celular"
   ]
  },
  {
   "cell_type": "code",
   "execution_count": 3,
   "id": "78e75dc1",
   "metadata": {},
   "outputs": [
    {
     "name": "stdout",
     "output_type": "stream",
     "text": [
      "><(((('>\n"
     ]
    }
   ],
   "source": [
    "print(\"><(((('>\")\n"
   ]
  },
  {
   "cell_type": "code",
   "execution_count": 10,
   "id": "dee3a1c4",
   "metadata": {},
   "outputs": [
    {
     "name": "stdout",
     "output_type": "stream",
     "text": [
      "() ())\n",
      "(•_•) \n",
      "(   )>~~ \n"
     ]
    }
   ],
   "source": [
    "\n",
    "print(\"() ())\")\n",
    "print(\"(•_•) \")\n",
    "print(\"(   )>~~ \")"
   ]
  },
  {
   "cell_type": "code",
   "execution_count": 4,
   "id": "2a824a02",
   "metadata": {},
   "outputs": [
    {
     "name": "stdout",
     "output_type": "stream",
     "text": [
      "___________\n",
      "|  ______  |\n",
      "| |      | |\n",
      "| |      | |\n",
      "|  < 0 >   |\n",
      "|__________|\n"
     ]
    }
   ],
   "source": [
    "print(\"___________\")\n",
    "print(\"|  ______  |\")\n",
    "print(\"| |      | |\")\n",
    "print(\"| |      | |\")\n",
    "print(\"|  < 0 >   |\")\n",
    "print(\"|__________|\")"
   ]
  }
 ],
 "metadata": {
  "kernelspec": {
   "display_name": "Python 3",
   "language": "python",
   "name": "python3"
  },
  "language_info": {
   "codemirror_mode": {
    "name": "ipython",
    "version": 3
   },
   "file_extension": ".py",
   "mimetype": "text/x-python",
   "name": "python",
   "nbconvert_exporter": "python",
   "pygments_lexer": "ipython3",
   "version": "3.13.3"
  }
 },
 "nbformat": 4,
 "nbformat_minor": 5
}
