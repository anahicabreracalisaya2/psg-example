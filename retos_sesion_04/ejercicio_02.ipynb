{
 "cells": [
  {
   "cell_type": "markdown",
   "id": "db5bdb3e",
   "metadata": {},
   "source": [
    "# GATITO\n",
    "Este es un Osito sentado que intenta dar abracitos"
   ]
  },
  {
   "cell_type": "code",
   "execution_count": 5,
   "id": "5ff5852b",
   "metadata": {},
   "outputs": [
    {
     "name": "stdout",
     "output_type": "stream",
     "text": [
      "      /\\_/\\ \n",
      "    =( o.o )=\n",
      " ()--(     )--() \n",
      "     ( | | )\n",
      "     ('')('')\n"
     ]
    },
    {
     "name": "stderr",
     "output_type": "stream",
     "text": [
      "<>:1: SyntaxWarning: invalid escape sequence '\\_'\n",
      "<>:1: SyntaxWarning: invalid escape sequence '\\_'\n",
      "C:\\Users\\HP PROBOOK\\AppData\\Local\\Temp\\ipykernel_8540\\3647063881.py:1: SyntaxWarning: invalid escape sequence '\\_'\n",
      "  print(\"      /\\_/\\ \")\n"
     ]
    }
   ],
   "source": [
    "print(\"      /\\_/\\ \")\n",
    "print(\"    =( o.o )=\")\n",
    "print(\" ()--(     )--() \")\n",
    "print(\"     ( | | )\")\n",
    "print(\"     ('')('')\")\n"
   ]
  }
 ],
 "metadata": {
  "kernelspec": {
   "display_name": "Python 3",
   "language": "python",
   "name": "python3"
  },
  "language_info": {
   "codemirror_mode": {
    "name": "ipython",
    "version": 3
   },
   "file_extension": ".py",
   "mimetype": "text/x-python",
   "name": "python",
   "nbconvert_exporter": "python",
   "pygments_lexer": "ipython3",
   "version": "3.13.3"
  }
 },
 "nbformat": 4,
 "nbformat_minor": 5
}
