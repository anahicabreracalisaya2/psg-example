{
 "cells": [
  {
   "cell_type": "markdown",
   "id": "7990cd4e",
   "metadata": {},
   "source": [
    "# Clase 6 datos booleanos"
   ]
  },
  {
   "cell_type": "code",
   "execution_count": 5,
   "id": "f845adc2",
   "metadata": {},
   "outputs": [
    {
     "name": "stdout",
     "output_type": "stream",
     "text": [
      "Tipos de datos booleanos\n",
      "True\n",
      "False\n",
      "2\n",
      "1\n",
      "0\n",
      "0\n",
      "0\n",
      "Números y booleanos\n",
      "11\n",
      "10\n",
      "10\n",
      "0\n",
      "Declarar variables booleanas\n",
      "True\n",
      "<class 'bool'>\n",
      "False\n",
      "<class 'bool'>\n",
      "Declarar mediante función bool()\n",
      "True\n",
      "<class 'bool'>\n",
      "False\n",
      "<class 'bool'>\n",
      "True\n",
      "<class 'bool'>\n"
     ]
    }
   ],
   "source": [
    "print(\"Tipos de datos booleanos\")\n",
    "print (True)\n",
    "print (False)\n",
    "# Operaciones aritméticas con booleanos\n",
    "print (True + True)\n",
    "print (True * True)\n",
    "print (True * False)\n",
    "print (False + False)\n",
    "print (False * False)\n",
    "print (\"Números y booleanos\")\n",
    "print (10 + True)\n",
    "print (10 + False)\n",
    "print (10 * True)\n",
    "print (10 * False)\n",
    "print (\"Declarar variables booleanas\")\n",
    "var_booleana = True\n",
    "print (var_booleana)\n",
    "print (type(var_booleana))\n",
    "var_booleana = False\n",
    "print (var_booleana)\n",
    "print (type(var_booleana))\n",
    "print (\"Declarar mediante función bool()\")\n",
    "var_booleana = bool(1)\n",
    "print (var_booleana)\n",
    "print (type(var_booleana))\n",
    "var_booleana = bool(0)\n",
    "print (var_booleana)\n",
    "print (type(var_booleana))\n",
    "var_booleana = bool(15)\n",
    "print (var_booleana)\n",
    "print (type(var_booleana))\n"
   ]
  },
  {
   "cell_type": "markdown",
   "id": "ee450a04",
   "metadata": {},
   "source": [
    "# Operadores de comparación"
   ]
  },
  {
   "cell_type": "code",
   "execution_count": 4,
   "id": "6fbc81cf",
   "metadata": {},
   "outputs": [
    {
     "name": "stdout",
     "output_type": "stream",
     "text": [
      "Operadores de comparación\n",
      "True\n",
      "False\n",
      "False\n",
      "False\n",
      "True\n",
      "True\n",
      "True\n",
      "False\n",
      "Asignación de variables\n",
      "True\n",
      "False\n"
     ]
    },
    {
     "name": "stderr",
     "output_type": "stream",
     "text": [
      "<>:8: SyntaxWarning: \"is\" with 'int' literal. Did you mean \"==\"?\n",
      "<>:9: SyntaxWarning: \"is not\" with 'int' literal. Did you mean \"!=\"?\n",
      "<>:8: SyntaxWarning: \"is\" with 'int' literal. Did you mean \"==\"?\n",
      "<>:9: SyntaxWarning: \"is not\" with 'int' literal. Did you mean \"!=\"?\n",
      "C:\\Users\\HP PROBOOK\\AppData\\Local\\Temp\\ipykernel_10572\\796782121.py:8: SyntaxWarning: \"is\" with 'int' literal. Did you mean \"==\"?\n",
      "  print (10 is 10)\n",
      "C:\\Users\\HP PROBOOK\\AppData\\Local\\Temp\\ipykernel_10572\\796782121.py:9: SyntaxWarning: \"is not\" with 'int' literal. Did you mean \"!=\"?\n",
      "  print (10 is not 10)\n"
     ]
    }
   ],
   "source": [
    "print (\"Operadores de comparación\")\n",
    "print (10 == 10)\n",
    "print (10 != 10)\n",
    "print (10 < 10)\n",
    "print (10 > 10)\n",
    "print (10 <= 10)\n",
    "print (10 >= 10)\n",
    "print (10 is 10)\n",
    "print (10 is not 10)\n",
    "print (\"Asignación de variables\")\n",
    "x = 10\n",
    "mayor_que_cero = x > 0\n",
    "print (mayor_que_cero)\n",
    "diferente_de_10 = x != 10\n",
    "print (diferente_de_10)\n"
   ]
  },
  {
   "cell_type": "markdown",
   "id": "cce49745",
   "metadata": {},
   "source": [
    "# Operadores logicos"
   ]
  },
  {
   "cell_type": "code",
   "execution_count": null,
   "id": "8f11dec1",
   "metadata": {},
   "outputs": [
    {
     "name": "stdout",
     "output_type": "stream",
     "text": [
      "Operadores lógicos\n",
      "True\n",
      "False\n",
      "True\n",
      "False\n",
      "False\n",
      "True\n",
      "Operadores lógicos y prioridad\n",
      "True\n",
      "False\n",
      "True\n",
      "True\n",
      "False\n",
      "False\n",
      "Operador AND\n",
      "True\n",
      "False\n",
      "False\n",
      "False\n",
      "Operador OR\n",
      "True\n",
      "True\n",
      "True\n",
      "False\n",
      "Operador NOT\n",
      "False\n",
      "True\n",
      "Operador NOT\n",
      "False\n",
      "True\n",
      "Operador NOR\n",
      "False\n",
      "False\n",
      "False\n",
      "True\n",
      "Operador XOR\n",
      "True\n",
      "False\n",
      "Operador XOR\n",
      "True\n",
      "False\n"
     ]
    }
   ],
   "source": [
    "print (\"Operadores lógicos\")\n",
    "print (True and True)\n",
    "print (True and False)\n",
    "print (False or True)\n",
    "print (False or False)\n",
    "print (not True)\n",
    "print (not False)\n"
   ]
  },
  {
   "cell_type": "markdown",
   "id": "7d769eb9",
   "metadata": {},
   "source": [
    "## Operadores logicos y prioridad"
   ]
  },
  {
   "cell_type": "code",
   "execution_count": null,
   "id": "30620825",
   "metadata": {},
   "outputs": [],
   "source": [
    "print(\"Operadores lógicos y prioridad\")\n",
    "print(False and False or True)\n",
    "print(False and (False or True))\n",
    "print(not True and False or True)\n",
    "print(not (True and False or False))\n",
    "print(not True and (False or False))\n",
    "print(not True and False or False)\n",
    "print (\"Operador AND\")\n",
    "print (True and True)\n",
    "print (True and False)\n",
    "print (False and True)\n",
    "print (False and False)\n",
    "print (\"Operador OR\")\n",
    "print (True or True)\n",
    "print (True or False)\n",
    "print (False or True)\n",
    "print (False or False)\n",
    "print (\"Operador NOT\")\n",
    "print (not True)\n",
    "print (not False)\n",
    "print (\"Operador NOT\")\n",
    "print (not True)\n",
    "print (not False)\n",
    "print (\"Operador NOR\")\n",
    "print (not (True or True))\n",
    "print (not (True or False))\n",
    "print (not (False or True))\n",
    "print (not (False or False))\n",
    "print (\"Operador XOR\")\n",
    "a = True\n",
    "b = False\n",
    "print ((a or b) and not (a and b))\n",
    "a = True\n",
    "b = True\n",
    "print ((a or b) and not (a and b))\n",
    "print (\"Operador XOR\")\n",
    "a = True\n",
    "b = False\n",
    "print ((a or b) and not (a and b))\n",
    "a = True\n",
    "b = True\n",
    "print ((a or b) and not (a and b))\n"
   ]
  },
  {
   "cell_type": "markdown",
   "id": "8540b142",
   "metadata": {},
   "source": [
    "# Ejercicio de sensor y bateria"
   ]
  },
  {
   "cell_type": "code",
   "execution_count": 2,
   "id": "5ac1bc2e",
   "metadata": {},
   "outputs": [
    {
     "name": "stdout",
     "output_type": "stream",
     "text": [
      "Ejemplo de uso Sensor y Batería\n",
      "True and True = True\n",
      "True and False = False\n",
      "False and True = False\n",
      "False and False = False\n"
     ]
    }
   ],
   "source": [
    "print (\"Ejemplo de uso Sensor y Batería\")\n",
    "sensor = True\n",
    "bateria = True\n",
    "print (sensor, \"and\", bateria, \"=\", sensor and bateria)\n",
    "sensor = True\n",
    "bateria = False\n",
    "print (sensor, \"and\", bateria, \"=\", sensor and bateria)\n",
    "sensor = False\n",
    "bateria = True\n",
    "print (sensor, \"and\", bateria, \"=\", sensor and bateria)\n",
    "sensor = False\n",
    "bateria = False\n",
    "print (sensor, \"and\", bateria, \"=\", sensor and bateria)\n"
   ]
  },
  {
   "cell_type": "markdown",
   "id": "6ba9fa95",
   "metadata": {},
   "source": [
    "# Comparaciones lógicas"
   ]
  },
  {
   "cell_type": "code",
   "execution_count": 1,
   "id": "ed6f6fd3",
   "metadata": {},
   "outputs": [
    {
     "name": "stdout",
     "output_type": "stream",
     "text": [
      "Ejemplo 1 - Comparación y Lógicos\n",
      "True\n",
      "Ejemplo 2 - Aritméticos y comparación\n",
      "True\n",
      "Ejemplo 3 - Aritméticos, comparación y lógicos\n",
      "True\n",
      "Cortocircuito con operador and\n",
      "False\n"
     ]
    },
    {
     "ename": "ZeroDivisionError",
     "evalue": "division by zero",
     "output_type": "error",
     "traceback": [
      "\u001b[31m---------------------------------------------------------------------------\u001b[39m",
      "\u001b[31mZeroDivisionError\u001b[39m                         Traceback (most recent call last)",
      "\u001b[36mCell\u001b[39m\u001b[36m \u001b[39m\u001b[32mIn[1]\u001b[39m\u001b[32m, line 18\u001b[39m\n\u001b[32m     16\u001b[39m y = \u001b[32m0\u001b[39m\n\u001b[32m     17\u001b[39m \u001b[38;5;28mprint\u001b[39m (x > \u001b[32m2\u001b[39m \u001b[38;5;129;01mand\u001b[39;00m (x/y) > \u001b[32m2\u001b[39m)\n\u001b[32m---> \u001b[39m\u001b[32m18\u001b[39m \u001b[38;5;28mprint\u001b[39m (x > \u001b[32m0\u001b[39m \u001b[38;5;129;01mand\u001b[39;00m (\u001b[43mx\u001b[49m\u001b[43m/\u001b[49m\u001b[43my\u001b[49m) > \u001b[32m0\u001b[39m)\n\u001b[32m     19\u001b[39m \u001b[38;5;28mprint\u001b[39m (\u001b[33m\"\u001b[39m\u001b[33mCortocircuito con operador or\u001b[39m\u001b[33m\"\u001b[39m)\n\u001b[32m     20\u001b[39m x = \u001b[32m1\u001b[39m\n",
      "\u001b[31mZeroDivisionError\u001b[39m: division by zero"
     ]
    }
   ],
   "source": [
    "\n",
    "print (\"Ejemplo 1 - Comparación y Lógicos\")\n",
    "numero = 20\n",
    "print (numero >= 0 and numero <= 100)\n",
    "\n",
    "print (\"Ejemplo 2 - Aritméticos y comparación\")\n",
    "nota1 = 15\n",
    "nota2 = 20\n",
    "nota3 = 16\n",
    "print ((nota1 + nota2 + nota3) > 50)\n",
    "\n",
    "print (\"Ejemplo 3 - Aritméticos, comparación y lógicos\")\n",
    "numero = 15\n",
    "print ((numero % 3 ==0) and (numero % 5 ==0) and (numero % 2 !=0))\n",
    "print (\"Cortocircuito con operador and\")\n",
    "x = 1\n",
    "y = 0\n",
    "print (x > 2 and (x/y) > 2)\n",
    "print (x > 0 and (x/y) > 0)\n",
    "print (\"Cortocircuito con operador or\")\n",
    "x = 1\n",
    "y = 0\n",
    "print (x > 0 or (x/y) > 0)\n",
    "print (x > 2 or (x/y) > 2)"
   ]
  }
 ],
 "metadata": {
  "kernelspec": {
   "display_name": "Python 3",
   "language": "python",
   "name": "python3"
  },
  "language_info": {
   "codemirror_mode": {
    "name": "ipython",
    "version": 3
   },
   "file_extension": ".py",
   "mimetype": "text/x-python",
   "name": "python",
   "nbconvert_exporter": "python",
   "pygments_lexer": "ipython3",
   "version": "3.13.3"
  }
 },
 "nbformat": 4,
 "nbformat_minor": 5
}
