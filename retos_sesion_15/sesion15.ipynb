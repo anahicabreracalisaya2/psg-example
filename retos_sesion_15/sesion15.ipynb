{
 "cells": [
  {
   "cell_type": "markdown",
   "id": "f53cd8cd",
   "metadata": {},
   "source": [
    "# ERRORES Y EXCEPCIONES\n",
    "### Ejemplo de excepcion\n"
   ]
  },
  {
   "cell_type": "code",
   "execution_count": null,
   "id": "dbb3e4e9",
   "metadata": {},
   "outputs": [],
   "source": [
    "print (\"Inicio Ejemplo 1\")\n",
    "try:\n",
    "    x = 1 / 0\n",
    "    print (x)\n",
    "except Exception as e:\n",
    "    print(\"💀 Error:\", e, type(e))\n",
    "print (\"Fin Ejemplo 1\")\n"
   ]
  },
  {
   "cell_type": "markdown",
   "id": "069f5c54",
   "metadata": {},
   "source": [
    "### EJERECICIO 1"
   ]
  },
  {
   "cell_type": "code",
   "execution_count": null,
   "id": "0f2ef0f9",
   "metadata": {},
   "outputs": [],
   "source": [
    "while True:\n",
    "    try:\n",
    "        num1 = input(\"Ingrese el primer número: \")\n",
    "        if num1 == \"salir\":\n",
    "            break\n",
    "        num2 = input(\"Ingrese el segundo número: \")\n",
    "        if num2 == \"salir\":\n",
    "            break\n",
    "        num1 = float(num1)\n",
    "        num2 = float(num2)\n",
    "        print(\"Resultado:\", num1 / num2)\n",
    "    except Exception as e:\n",
    "        print(\"💀 Error:\", e)\n"
   ]
  },
  {
   "cell_type": "markdown",
   "id": "4ee503a9",
   "metadata": {},
   "source": [
    "## EJEMPLOS MULTIPLES\n",
    "### Estructura:\n",
    "try:\n",
    "    \n",
    "    Código que puede lanzar una excepción\n",
    "\n",
    "except ZeroDivisionError as e:\n",
    "    \n",
    "    Código si se produce una excepción de división por cero\n",
    "\n",
    "except Exception as e:\n",
    "    \n",
    "    Código si se produce una excepción genérica\n",
    "### Ejemplo 2 (excepciones especificas y despues las generales)\n",
    "### Numerico\n"
   ]
  },
  {
   "cell_type": "code",
   "execution_count": null,
   "id": "29c95782",
   "metadata": {},
   "outputs": [],
   "source": [
    "print (\"Inicio Ejemplo 2\")\n",
    "divisor = 0\n",
    "try:\n",
    "    x = 1 / divisor\n",
    "    print (x)\n",
    "except ZeroDivisionError as e:\n",
    "    print(\"0️⃣ Error:\", e, type(e))\n",
    "except Exception as e:\n",
    "    print(\"💀 Error:\", e, type(e))\n",
    "print (\"Fin Ejemplo 2\")"
   ]
  },
  {
   "cell_type": "markdown",
   "id": "45afbcc1",
   "metadata": {},
   "source": [
    "### Si se introduce una cadena"
   ]
  },
  {
   "cell_type": "code",
   "execution_count": null,
   "id": "f5d479df",
   "metadata": {},
   "outputs": [],
   "source": [
    "print (\"Inicio Ejemplo 2\")\n",
    "divisor = \"0\"\n",
    "try:\n",
    "    x = 1 / divisor\n",
    "    print (x)\n",
    "except ZeroDivisionError as e:\n",
    "    print(\"0️⃣ Error:\", e, type(e))\n",
    "except Exception as e:\n",
    "    print(\"💀 Error:\", e, type(e))\n",
    "print (\"Fin Ejemplo 2\")"
   ]
  },
  {
   "cell_type": "markdown",
   "id": "5c897c3f",
   "metadata": {},
   "source": [
    "## Respeta el orden jerargico\n",
    "### Ejemplo 3, De la lista de calificaciones obtener el promedio"
   ]
  },
  {
   "cell_type": "code",
   "execution_count": null,
   "id": "3159426e",
   "metadata": {},
   "outputs": [],
   "source": [
    "calificaciones = [20,40,80]\n",
    "suma = 0\n",
    "try:\n",
    "    for i in range(len(calificaciones)):\n",
    "        suma += calificaciones[i] # suma = suma + calificaciones[i]\n",
    "    promedio = suma / len(calificaciones)\n",
    "    print(\"Promedio:\", promedio)\n",
    "except ZeroDivisionError as e:\n",
    "    print(\"0️⃣ Error:\", e, type(e))\n",
    "except TypeError as e:\n",
    "    print(\"🎭 Error:\", e, type(e))\n",
    "except Exception as e:\n",
    "    print(\"💀 Error:\", e, type(e))\n"
   ]
  },
  {
   "cell_type": "markdown",
   "id": "84faa62d",
   "metadata": {},
   "source": [
    "### Ejemplo 4, De la lista de calificaciones obtener el promedio"
   ]
  },
  {
   "cell_type": "code",
   "execution_count": null,
   "id": "2ad4b1c7",
   "metadata": {},
   "outputs": [],
   "source": [
    "print (\"Inicio Ejemplo 4\")\n",
    "calificaciones = [20,40,80]\n",
    "suma = 0\n",
    "try:\n",
    "    for i in range(len(calificaciones)):\n",
    "        suma += calificaciones[i]\n",
    "    promedio = suma / len(calificaciones)\n",
    "    print(\"Promedio:\", promedio)\n",
    "except Exception as e:\n",
    "    print(\"💀 Error:\", e, type(e))\n",
    "else:\n",
    "    print (\"🎉 Sin errores\")\n",
    "print (\"Fin Ejemplo 4\")"
   ]
  },
  {
   "cell_type": "markdown",
   "id": "c70d506d",
   "metadata": {},
   "source": [
    "### Ejercicio 2, Crear un programa que solicite dos números y mediante una función devuelva la división de ambos\n",
    "Si hay un error mostrar un mensaje de error. El programa se detiene si se ingresa \"salir\"\n",
    "Añadir un bloque else que muestre el resultado de la función"
   ]
  },
  {
   "cell_type": "code",
   "execution_count": null,
   "id": "94def4d7",
   "metadata": {},
   "outputs": [],
   "source": [
    "def division(num1, num2):\n",
    "    return num1 / num2\n",
    "\n",
    "while True:\n",
    "    try:\n",
    "        num1 = input(\"Ingrese el primer número: \")\n",
    "        if num1 == \"salir\":\n",
    "            break\n",
    "        num2 = input(\"Ingrese el segundo número: \")\n",
    "        if num2 == \"salir\":\n",
    "            break\n",
    "        num1 = float(num1)\n",
    "        num2 = float(num2)\n",
    "        resultado = division(num1, num2)\n",
    "    except Exception as e:\n",
    "        print(\"💀 Error:\", e)\n",
    "    else:\n",
    "        print(\"🎉 Resultado: \",resultado)\n"
   ]
  },
  {
   "cell_type": "markdown",
   "id": "a7b09ab8",
   "metadata": {},
   "source": [
    "## BLOQUE finally\n",
    "### Ejemplo 5, Simula una conexión a internet que haga ping y cerrar la conexión"
   ]
  },
  {
   "cell_type": "code",
   "execution_count": null,
   "id": "e5f3e1a7",
   "metadata": {},
   "outputs": [],
   "source": [
    "print (\"Inicio Ejemplo 5\")\n",
    "try:\n",
    "    print(\"🔗 Ping...\")\n",
    "except Exception as e:\n",
    "    print(\"💀 Error:\", e)\n",
    "else:\n",
    "    print(\"🎉 Ping Exitoso\")\n",
    "finally:\n",
    "    print(\"🔌 Cerrando conexión\")\n"
   ]
  },
  {
   "cell_type": "markdown",
   "id": "b57e5516",
   "metadata": {},
   "source": [
    "## RAISE\n",
    "### Estructura: raise Exception(\"Mensaje de error\")\n",
    "### Ejemplo 6, Simula una conexión a internet que haga ping y cerrar la conexión\n"
   ]
  },
  {
   "cell_type": "code",
   "execution_count": null,
   "id": "6d15bf87",
   "metadata": {},
   "outputs": [],
   "source": [
    "print (\"Inicio Ejemplo 6\")\n",
    "try:\n",
    "    print(\"🔗 Ping...\")\n",
    "    raise Exception(\"Error de conexión\") #Excepción genérica\n",
    "except Exception as e: # Captura cualquier excepción\n",
    "    print(\"💀 Error:\", e)\n",
    "else:\n",
    "    print(\"🎉 Ping Exitoso\")\n",
    "finally:\n",
    "    print(\"🔌 Cerrando conexión\")"
   ]
  },
  {
   "cell_type": "markdown",
   "id": "f9acb4cc",
   "metadata": {},
   "source": [
    "### Ejercicio 3, Escriba un programa que solicite un número por teclado y se almacene en una lista\n"
   ]
  },
  {
   "cell_type": "code",
   "execution_count": null,
   "id": "7f5669d0",
   "metadata": {},
   "outputs": [],
   "source": [
    "numeros = []\n",
    "while True:\n",
    "    try:\n",
    "        num = input(\"Ingrese un número: \")\n",
    "        if num == \"salir\":\n",
    "            break\n",
    "        num = float(num)\n",
    "        if num == 0:\n",
    "            raise Exception(\"No se puede agregar el número 0\")\n",
    "        numeros.append(num)\n",
    "    except KeyboardInterrupt as e:\n",
    "        print('🚫 Para salir escriba \"salir\"')\n",
    "    except Exception as e:\n",
    "        print(\"💀 Error:\", e)\n",
    "    else:\n",
    "        print(\"🎉 Número agregado\")\n",
    "    finally:\n",
    "        print(\"Suma:\", sum(numeros))\n"
   ]
  },
  {
   "cell_type": "markdown",
   "id": "ebc43dfc",
   "metadata": {},
   "source": [
    "## PASS\n",
    "### Ejemplo 7, Crea una función que no hace nada\n"
   ]
  },
  {
   "cell_type": "code",
   "execution_count": null,
   "id": "6f8af4fe",
   "metadata": {},
   "outputs": [],
   "source": [
    "print(\"Inicio Ejemplo 7\")\n",
    "def funcion():\n",
    "    pass\n",
    "\n",
    "funcion()\n",
    "print(\"Fin Ejemplo 7\")"
   ]
  },
  {
   "cell_type": "markdown",
   "id": "4a4b9b95",
   "metadata": {},
   "source": [
    "## EXCEPCIONES PERSONALIZADAS\n",
    "### Ejemplo 8, Tienes un frutero, saca las frutas mientras no sea un gusano y genera una excepción\n"
   ]
  },
  {
   "cell_type": "code",
   "execution_count": null,
   "id": "372e5bcd",
   "metadata": {},
   "outputs": [],
   "source": [
    "print(\"Inicio Ejemplo 8\")\n",
    "class GusanoError(Exception):\n",
    "    pass\n",
    " \n",
    "frutero = ['🍎', '🍌', '🍐', '🐛', '🍇']\n",
    "for fruta in frutero:\n",
    "    try:\n",
    "        if fruta == '🐛':\n",
    "            raise GusanoError(\"😱 Ewww!\")\n",
    "        print(fruta)\n",
    "    except GusanoError as e:\n",
    "        print(\"🐛 Error:\", e)\n",
    "    except Exception as e:\n",
    "        print(\"💀 Error:\", e)\n",
    "print(\"Fin Ejemplo 8\")\n"
   ]
  },
  {
   "cell_type": "markdown",
   "id": "75590c63",
   "metadata": {},
   "source": [
    "### Ejercicio 4, Crear un programa que solicite palabras por teclado y almacene en una lista\n"
   ]
  },
  {
   "cell_type": "code",
   "execution_count": null,
   "id": "6e95e84c",
   "metadata": {},
   "outputs": [],
   "source": [
    "class NoAlfabeticoError(Exception):\n",
    "    pass\n",
    "\n",
    "palabras = []\n",
    "while True:\n",
    "    try:\n",
    "        palabra = input(\"Ingrese una palabra: \")\n",
    "        if palabra == \"salir\":\n",
    "            break\n",
    "        if not palabra.isalpha():\n",
    "            raise NoAlfabeticoError(\"Solo se permiten letras\")\n",
    "        palabras.append(palabra)\n",
    "    except NoAlfabeticoError as e:\n",
    "        print(\"🚫 Error:\", e)\n",
    "    except Exception as e:\n",
    "        print(\"💀 Error:\", e)\n",
    "    else:\n",
    "        print(\"🎉 Palabra agregada\")\n",
    "    finally:\n",
    "        print(\"Lista:\", palabras)\n",
    "        "
   ]
  }
 ],
 "metadata": {
  "language_info": {
   "name": "python"
  }
 },
 "nbformat": 4,
 "nbformat_minor": 5
}
