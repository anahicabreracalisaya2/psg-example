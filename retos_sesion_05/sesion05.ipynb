{
 "cells": [
  {
   "cell_type": "markdown",
   "id": "aedb4cb6",
   "metadata": {},
   "source": [
    "# TIPOS DE NUMEROS\n"
   ]
  },
  {
   "cell_type": "code",
   "execution_count": 15,
   "id": "5360e513",
   "metadata": {},
   "outputs": [
    {
     "name": "stdout",
     "output_type": "stream",
     "text": [
      "<class 'int'>\n",
      "10\n",
      "<class 'int'>\n",
      "100\n",
      "<class 'int'>\n",
      "20\n",
      "<class 'int'>\n",
      "Base decimal\n",
      "10\n",
      "Base binaria\n",
      "10\n",
      "Base octal\n",
      "10\n",
      "Base hexadecimal\n",
      "10\n",
      "123456789012345678901234567890123456789012345678901234567890\n",
      "<class 'int'>\n",
      "0.5\n",
      "<class 'float'>\n",
      "0.100546\n",
      "<class 'float'>\n",
      "1.0\n",
      "<class 'float'>\n",
      "0.002\n",
      "<class 'float'>\n",
      "0.9999999999999999\n",
      "<class 'float'>\n"
     ]
    }
   ],
   "source": [
    "print (type(1))\n",
    "print (10)\n",
    "print ( type (10) )\n",
    "variable = 100\n",
    "print (variable)\n",
    "print ( type (variable) )\n",
    "variable_2 = int (20)\n",
    "print (variable_2)\n",
    "print ( type (variable_2) )\n",
    "print (\"Base decimal\")\n",
    "print (10)\n",
    "print (\"Base binaria\")\n",
    "print (0b1010)\n",
    "print (\"Base octal\")\n",
    "print (0o12)\n",
    "print (\"Base hexadecimal\")\n",
    "print (0xa)\n",
    "variable_3 = 123456789012345678901234567890123456789012345678901234567890\n",
    "print (variable_3)\n",
    "print (type (variable_3))\n",
    "print (0.5)\n",
    "print ( type (0.5) )\n",
    "variable_4 = 0.100546\n",
    "print (variable_4)\n",
    "print ( type (variable_4) )    \n",
    "variable_7 = float (1)\n",
    "print(variable_7)\n",
    "print ( type (variable_7) )\n",
    "variable_6 = 2.0e-3\n",
    "print(variable_6)\n",
    "print ( type (variable_6) )\n",
    "variable_5 = 0.9999999999999999\n",
    "print(variable_5)\n",
    "print ( type (variable_5) )\n",
    "\n",
    "\n"
   ]
  },
  {
   "cell_type": "markdown",
   "id": "099c3191",
   "metadata": {},
   "source": [
    "# OPERACIONES ARITMÉTICAS"
   ]
  },
  {
   "cell_type": "code",
   "execution_count": 14,
   "id": "609ecc38",
   "metadata": {},
   "outputs": [
    {
     "name": "stdout",
     "output_type": "stream",
     "text": [
      "Suma\n",
      "13\n",
      "Resta\n",
      "7\n",
      "Multiplicación\n",
      "30\n",
      "División\n",
      "3.3333333333333335\n",
      "Potencia\n",
      "1000\n",
      "Módulo o residuo\n",
      "1\n",
      "División entera\n",
      "3\n"
     ]
    }
   ],
   "source": [
    "a = 10\n",
    "b = 3\n",
    "print (\"Suma\")\n",
    "print (a + b)\n",
    "print (\"Resta\")\n",
    "print (a - b)\n",
    "print (\"Multiplicación\")\n",
    "print (a * b)\n",
    "print (\"División\")\n",
    "print (a / b)\n",
    "print (\"Potencia\")\n",
    "print (a ** b)\n",
    "print (\"Módulo o residuo\")\n",
    "print (a % b)\n",
    "print (\"División entera\")\n",
    "print (a // b)\n"
   ]
  },
  {
   "cell_type": "markdown",
   "id": "46836f3c",
   "metadata": {},
   "source": [
    "# Operciones complejas"
   ]
  },
  {
   "cell_type": "code",
   "execution_count": 13,
   "id": "f7f4b903",
   "metadata": {},
   "outputs": [
    {
     "name": "stdout",
     "output_type": "stream",
     "text": [
      "6.0\n",
      "Operadores de comparación\n",
      "False\n",
      "False\n",
      "True\n",
      "True\n",
      "True\n",
      "False\n",
      "Operadores de comparación con int - float\n",
      "False\n",
      "False\n",
      "True\n",
      "True\n",
      "True\n",
      "False\n"
     ]
    }
   ],
   "source": [
    "minutos = 300\n",
    "tiempo_extra_segundos = 3600\n",
    "horas = (minutos + tiempo_extra_segundos / 60) / 60\n",
    "print (horas)\n",
    "print (\"Operadores de comparación\")\n",
    "comparar = 10\n",
    "print (comparar < 10)\n",
    "print (comparar > 10)\n",
    "print (comparar == 10)\n",
    "print (comparar <= 10)\n",
    "print (comparar >= 10)\n",
    "print (comparar != 10)\n",
    "print (\"Operadores de comparación con int - float\")\n",
    "entero = 10\n",
    "flotante = 10.0\n",
    "print (entero < flotante)\n",
    "print (entero > flotante)\n",
    "print (entero == flotante)\n",
    "print (entero <= flotante)\n",
    "print (entero >= flotante)\n",
    "print (entero != flotante)"
   ]
  }
 ],
 "metadata": {
  "language_info": {
   "name": "python"
  }
 },
 "nbformat": 4,
 "nbformat_minor": 5
}
