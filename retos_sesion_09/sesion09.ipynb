{
 "cells": [
  {
   "cell_type": "markdown",
   "id": "9d00c340",
   "metadata": {},
   "source": [
    "# LISTAS\n",
    "## Mutabiblidad"
   ]
  },
  {
   "cell_type": "code",
   "execution_count": null,
   "id": "9deb87c2",
   "metadata": {},
   "outputs": [],
   "source": [
    "lista = [1,2,3]\n",
    "lista[0] = 4 \n",
    "print (lista)"
   ]
  },
  {
   "cell_type": "markdown",
   "id": "16b2933c",
   "metadata": {},
   "source": [
    "## Una lista es ordenada"
   ]
  },
  {
   "cell_type": "code",
   "execution_count": null,
   "id": "a6b5052e",
   "metadata": {},
   "outputs": [],
   "source": [
    "lista1 = [1,2,3]\n",
    "lista2 = [3,2,1]\n",
    "print (lista1 == lista2)"
   ]
  },
  {
   "cell_type": "markdown",
   "id": "8610b2ad",
   "metadata": {},
   "source": [
    "## Indexada"
   ]
  },
  {
   "cell_type": "code",
   "execution_count": null,
   "id": "cb508451",
   "metadata": {},
   "outputs": [],
   "source": [
    "lista = [1,2,3]\n",
    "lista[0] \n",
    "lista[1] \n",
    "lista[2] "
   ]
  },
  {
   "cell_type": "markdown",
   "id": "a5fedd64",
   "metadata": {},
   "source": [
    "Se declara tambien a travez de la funcion \"list()\"\n",
    "\n",
    "## Tipos de listas"
   ]
  },
  {
   "cell_type": "code",
   "execution_count": null,
   "id": "54cb7148",
   "metadata": {},
   "outputs": [],
   "source": [
    "print (\"Lista de enteros\")\n",
    "mi_lista = [1,2,3,4,5]\n",
    "print (mi_lista)\n",
    "print(type(mi_lista))\n",
    "print (\"Lista mixta\")\n",
    "mi_lista = [1, \"hola\", 3.14, \"mundo\", 5]\n",
    "print (mi_lista)\n",
    "print (\"Lista vacía\")\n",
    "mi_lista = []\n",
    "print (mi_lista)\n",
    "\n",
    "#A partir de otros\n",
    "print (\"Lista a partir de una cadena\")\n",
    "mi_lista = list(\"hola mundo\")\n",
    "print (mi_lista)\n",
    "print (\"Lista a partir de una tupla\")\n",
    "mi_tupla = (1,2,3,4,5)\n",
    "print (mi_tupla)\n",
    "mi_lista = list(mi_tupla)\n",
    "print (mi_lista)\n",
    "print (\"Lista por comprensión\")\n",
    "mi_lista = [x for x in range(10)]\n",
    "print (mi_lista)\n"
   ]
  },
  {
   "cell_type": "markdown",
   "id": "f931a15b",
   "metadata": {},
   "source": [
    "\n",
    "## Indexacion"
   ]
  },
  {
   "cell_type": "code",
   "execution_count": null,
   "id": "4ea02956",
   "metadata": {},
   "outputs": [],
   "source": [
    "\n",
    "print (\"Indexación positivo de una lista\")\n",
    "lista = [1, \"hola\", 3.14, (1,2)]\n",
    "print (lista[0], type(lista[0])) \n",
    "print (lista[1], type(lista[1])) \n",
    "print (lista[2], type(lista[2])) \n",
    "print (lista[3], type(lista[3]))\n",
    "print (\"Indexación negativo de una lista\")\n",
    "lista = [1, \"hola\", 3.14, (1,2)]\n",
    "print (lista[-1], type(lista[-1]))\n",
    "print (lista[-2], type(lista[-2]))\n",
    "print (lista[-3], type(lista[-3]))\n",
    "print (lista[-4], type(lista[-4]))\n",
    "print (\"Modificación de una lista\")\n",
    "lista = [1, \"hola\", 3.14, (1,2)]\n",
    "print (lista)\n",
    "lista[0] = 2\n",
    "lista[1] = \"mundo\"\n",
    "print (lista)"
   ]
  },
  {
   "cell_type": "markdown",
   "id": "ea1fd442",
   "metadata": {},
   "source": [
    "## Slicing\n"
   ]
  },
  {
   "cell_type": "code",
   "execution_count": null,
   "id": "dc418fb7",
   "metadata": {},
   "outputs": [],
   "source": [
    "\n",
    "print (\"Slicing de una lista\")\n",
    "lista = [\"P\", \"y\", \"t\", \"h\", \"o\", \"n\", \"L\", \"a\", \"P\", \"a\", \"z\"]\n",
    "print (lista)\n",
    "sub_lista = lista[2:7]\n",
    "print (sub_lista)\n",
    "print (type(sub_lista))\n",
    "print (\"Slicing con paso positivo\")\n",
    "lista = [\"P\", \"y\", \"t\", \"h\", \"o\", \"n\", \"L\", \"a\", \"P\", \"a\", \"z\"]\n",
    "print (lista)\n",
    "sub_lista = lista[0:9:3]\n",
    "print (sub_lista)\n",
    "print (\"Slicing con paso negativo\")\n",
    "lista = [\"P\", \"y\", \"t\", \"h\", \"o\", \"n\", \"L\", \"a\", \"P\", \"a\", \"z\"]\n",
    "print (lista)\n",
    "sub_lista = lista[8:2:-4]\n",
    "print (sub_lista)\n",
    "print (\"Slicing negativo con paso negativo\")\n",
    "lista = [\"P\", \"y\", \"t\", \"h\", \"o\", \"n\", \"L\", \"a\", \"P\", \"a\", \"z\"]\n",
    "print (lista)\n",
    "sub_lista = lista[-1:-8:-2]\n",
    "print (sub_lista)\n",
    "print (\"Slicing negativo con paso positivo\")\n",
    "lista = [\"P\", \"y\", \"t\", \"h\", \"o\", \"n\", \"L\", \"a\", \"P\", \"a\", \"z\"]\n",
    "print (lista)\n",
    "sub_lista = lista[-8:-1:2]\n",
    "print (sub_lista)"
   ]
  },
  {
   "cell_type": "markdown",
   "id": "d6de569e",
   "metadata": {},
   "source": [
    "\n",
    "## Concatenación de listas"
   ]
  },
  {
   "cell_type": "code",
   "execution_count": null,
   "id": "247bf0e7",
   "metadata": {},
   "outputs": [],
   "source": [
    "\n",
    "print (\"Concatenación de listas\")\n",
    "lista1 = [1,2,3]\n",
    "lista2 = [\"a\",\"b\",\"c\"]\n",
    "concatenar = lista1 + lista2\n",
    "print (lista1, lista2)\n",
    "print (concatenar)\n",
    "print (type(concatenar))\n",
    "print (\"Repetición de listas\")\n",
    "lista = [True, False]\n",
    "repetir = lista * 3\n",
    "print (lista)\n",
    "print (repetir)\n",
    "print (type(repetir))\n"
   ]
  },
  {
   "cell_type": "markdown",
   "id": "b48a790a",
   "metadata": {},
   "source": [
    "## METODOS DE LISTAS\n",
    "\n",
    "## Metodos de busqueda"
   ]
  },
  {
   "cell_type": "code",
   "execution_count": null,
   "id": "10586b9a",
   "metadata": {},
   "outputs": [],
   "source": [
    "\n",
    "print (\"Método index(valor)\")\n",
    "lista = [1,True,3.14,\"hola\",5]\n",
    "valor = \"hola\"\n",
    "print (valor, lista.index(valor))\n",
    "valor = 3.14\n",
    "print (valor, lista.index(valor))\n",
    "print (\"Método count(valor)\")\n",
    "lista = [1,True,3.14,\"hola\",5, True, True, 3.140]\n",
    "valor = True\n",
    "print (valor, lista.count(valor))\n",
    "valor = 3.14\n",
    "print (valor, lista.count(valor))"
   ]
  },
  {
   "cell_type": "markdown",
   "id": "285bc030",
   "metadata": {},
   "source": [
    "\n",
    "## Metodos de adicion"
   ]
  },
  {
   "cell_type": "code",
   "execution_count": null,
   "id": "a33ea770",
   "metadata": {},
   "outputs": [],
   "source": [
    "\n",
    "print (\"Método insert(i, valor)\")\n",
    "lista = [1,2,3,4,5]\n",
    "print (lista)\n",
    "lista.insert(2, \"OwO\")\n",
    "print (lista)\n",
    "print (\"Método append(valor)\")\n",
    "lista = [1,2,3,4,5]\n",
    "print (lista)\n",
    "lista.append(\"(OwO=)\")\n",
    "print (lista)\n",
    "print (\"Método extend(iterable)\")\n",
    "lista = [1,2,3]\n",
    "print (lista)\n",
    "lista.extend(\":3\")\n",
    "print (lista)\n",
    "lista.extend([\"(¬_¬ )\", \"(O_O=)\"])\n",
    "print (lista)\n",
    "lista.extend((\"😅\", \"😎\"))\n",
    "print (lista)"
   ]
  },
  {
   "cell_type": "markdown",
   "id": "da621c65",
   "metadata": {},
   "source": [
    "\n",
    "## Metodos de eliminación"
   ]
  },
  {
   "cell_type": "code",
   "execution_count": null,
   "id": "03987a56",
   "metadata": {},
   "outputs": [],
   "source": [
    "\n",
    "print (\"Método remove(valor)\")\n",
    "lista = [1,2,\"UwU\",4,5, \"UwU\"]\n",
    "print (lista)\n",
    "lista.remove(\"UwU\")\n",
    "print (lista)\n",
    "print (\"Método pop(i)\")\n",
    "lista = [\"OwO\",3,\"UwU\",5]\n",
    "print (lista)\n",
    "lista.pop(1)\n",
    "print (lista)\n",
    "print (\"Método pop()\")\n",
    "lista.pop()\n",
    "print (lista)"
   ]
  },
  {
   "cell_type": "markdown",
   "id": "fff50360",
   "metadata": {},
   "source": [
    "\n",
    "## Metodos de ordenamiento"
   ]
  },
  {
   "cell_type": "code",
   "execution_count": null,
   "id": "d997de17",
   "metadata": {},
   "outputs": [],
   "source": [
    "\n",
    "print (\"Método sort()\")\n",
    "lista = [3,1,5,2,4]\n",
    "print (lista)\n",
    "lista.sort()\n",
    "print (lista)\n",
    "print (\"Método sort()\")\n",
    "lista = [3,1,5,2,4]\n",
    "print (lista)\n",
    "lista.sort(reverse=True)\n",
    "print (lista)\n",
    "print (\"Método reverse()\")\n",
    "lista = [3,1,5,2,4]\n",
    "print (lista)\n",
    "lista.reverse()\n",
    "print (lista)"
   ]
  },
  {
   "cell_type": "markdown",
   "id": "1ef7f96a",
   "metadata": {},
   "source": [
    "\n",
    "## Metodos de copia"
   ]
  },
  {
   "cell_type": "code",
   "execution_count": null,
   "id": "5e9946b3",
   "metadata": {},
   "outputs": [],
   "source": [
    "\n",
    "print (\"Asignación de lista\")\n",
    "lista = [1,2,3,4,5]\n",
    "print (lista)\n",
    "copia = lista\n",
    "copia[0] = 6\n",
    "print (copia)\n",
    "print (lista)\n",
    "print (\"Método copia con slicing\")\n",
    "lista = [1,2,3,4,5]\n",
    "print (lista)\n",
    "copia = lista[:]\n",
    "copia[0] = 6\n",
    "print (copia)\n",
    "print (lista)\n",
    "\n",
    "\n",
    "\n",
    "\n"
   ]
  },
  {
   "cell_type": "markdown",
   "id": "a90556d0",
   "metadata": {},
   "source": [
    "## Compracion de listas y operadores de comparación"
   ]
  },
  {
   "cell_type": "code",
   "execution_count": null,
   "id": "7ee8767b",
   "metadata": {},
   "outputs": [],
   "source": [
    "\n",
    "print (\"Comparación de listas\")\n",
    "lista = [1,2,3,4,5]\n",
    "print (lista)\n",
    "print (3 in lista)\n",
    "print (6 in lista)\n",
    "print (3 not in lista)\n",
    "print (6 not in lista)\n",
    "print ([1,2,3] in lista)\n",
    "print (\"Comparación de listas\")\n",
    "lista1 = [1,2,3,4,5]\n",
    "lista2 = [1,2,3,4,5]\n",
    "lista3 = [1,2]\n",
    "print (lista1, lista2, lista3)\n",
    "print (lista1 is lista2)\n",
    "print (lista1 is not lista2)\n",
    "print (lista3 is lista1)\n",
    "\n",
    "print (\"Menor y Menor Igual que\")\n",
    "print ([1,2,3] <= [1,2,4])\n",
    "print ([1,2,3] <= [1,2,2,2])\n",
    "print ([1,2,3] <= [2])\n",
    "print ([1,2,3] < [1,2,3])\n",
    "print ([1,2,3] <= [1,2,3])\n",
    "print (\"Mayor y Mayor Igual que\")\n",
    "print ([1,2,3] >= [1,2,4])\n",
    "print ([1,2,3] >= [1,2,2,2])\n",
    "print ([1,2,3] >= [2])\n",
    "print ([1,2,3] > [1,2,3])\n",
    "print ([1,2,3] >= [1,2,3])\n",
    "print (\"Igual y Desigual que\")\n",
    "print ([1,2,3] == [1,2,3])\n",
    "print ([1,2,3] == [1,2,4])\n",
    "print ([1,2,3] != [1,2,3])\n",
    "print ([1,2,3] != [1,2,4])\n"
   ]
  },
  {
   "cell_type": "markdown",
   "id": "6bbd3f3c",
   "metadata": {},
   "source": [
    "## Funciones con listas"
   ]
  },
  {
   "cell_type": "code",
   "execution_count": null,
   "id": "e2407641",
   "metadata": {},
   "outputs": [],
   "source": [
    "\n",
    "print (\"Función len()\")\n",
    "lista = [1,True,3.14,\"🐍\",5]\n",
    "print (lista)\n",
    "print (len(lista))\n",
    "print (\"Función max()\")\n",
    "lista = [1,2,3,4,5]\n",
    "print (lista)\n",
    "print (max(lista))\n",
    "lista = [\"a\",\"b\",\"c\",\"d\",\"e\"]\n",
    "print (lista)\n",
    "print (max(lista))\n",
    "print (\"Función min()\")\n",
    "lista = [1,2,3,4,5]\n",
    "print (lista)\n",
    "print (min(lista))\n",
    "lista = [\"a\",\"b\",\"c\",\"d\",\"e\"]\n",
    "print (lista)\n",
    "print (min(lista))\n",
    "print (\"Función sum()\")\n",
    "lista = [1,2,3,4,5]\n",
    "print (lista)\n",
    "print (sum(lista))\n"
   ]
  },
  {
   "cell_type": "markdown",
   "id": "65b63b0c",
   "metadata": {},
   "source": [
    "## Listas anidadas"
   ]
  },
  {
   "cell_type": "code",
   "execution_count": null,
   "id": "167d55ce",
   "metadata": {},
   "outputs": [],
   "source": [
    "\n",
    "print (\"Listas anidadas\")\n",
    "lista = [1,2,3,[4,5,6]]\n",
    "print (lista)\n",
    "print (type(lista))\n",
    "valor_lista = lista[3]\n",
    "print (valor_lista)\n",
    "print (type(valor_lista))\n",
    "valor = valor_lista[1]\n",
    "print (valor)\n",
    "print (type(valor))"
   ]
  }
 ],
 "metadata": {
  "language_info": {
   "name": "python"
  }
 },
 "nbformat": 4,
 "nbformat_minor": 5
}
