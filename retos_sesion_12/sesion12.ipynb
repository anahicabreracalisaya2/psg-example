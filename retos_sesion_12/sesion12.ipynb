{
 "cells": [
  {
   "cell_type": "markdown",
   "id": "7822027d",
   "metadata": {},
   "source": [
    "# Estructura de control de flujo (Sentencias condicionales)"
   ]
  },
  {
   "cell_type": "markdown",
   "id": "4d9b4c87",
   "metadata": {},
   "source": [
    "## Estructura de un if"
   ]
  },
  {
   "cell_type": "code",
   "execution_count": 1,
   "id": "afeb3f04",
   "metadata": {},
   "outputs": [
    {
     "name": "stdout",
     "output_type": "stream",
     "text": [
      "Inicio\n",
      "Cumple condición\n",
      "Fin\n",
      "Inicio\n",
      "El número es par\n",
      "Fin\n"
     ]
    }
   ],
   "source": [
    "\n",
    "print (\"Inicio\")\n",
    "condicion = True\n",
    "if condicion:\n",
    "    # Bloque de código\n",
    "    print (\"Cumple condición\")\n",
    "print (\"Fin\")\n",
    "# Ejemplo de la estructura: Determinar si es par\n",
    "print (\"Inicio\")\n",
    "numero = 4\n",
    "if numero % 2 == 0: # Si el módulo de 2 es 0\n",
    "    print (\"El número es par\")\n",
    "print (\"Fin\")\n"
   ]
  },
  {
   "cell_type": "markdown",
   "id": "1e7c5fb9",
   "metadata": {},
   "source": [
    "## Estructura if - else"
   ]
  },
  {
   "cell_type": "code",
   "execution_count": 2,
   "id": "16b279ee",
   "metadata": {},
   "outputs": [
    {
     "name": "stdout",
     "output_type": "stream",
     "text": [
      "Inicio\n",
      "No cumple condición\n",
      "Fin\n",
      "Inicio\n",
      "El número es impar\n",
      "Fin\n"
     ]
    }
   ],
   "source": [
    "\n",
    "print (\"Inicio\")\n",
    "condicion = False\n",
    "if condicion:\n",
    "    # Bloque de código\n",
    "    print (\"Cumple condición\")\n",
    "else:\n",
    "    # Bloque de código\n",
    "    print (\"No cumple condición\")\n",
    "print (\"Fin\")\n",
    "### Ejemplo: Determinar un número impar\n",
    "print (\"Inicio\")\n",
    "numero = 3\n",
    "if numero % 2 == 0: # Si el módulo de 2 es 0\n",
    "    print (\"El número es par\")\n",
    "else:\n",
    "    print (\"El número es impar\")\n",
    "print (\"Fin\")\n"
   ]
  },
  {
   "cell_type": "markdown",
   "id": "9230dfcd",
   "metadata": {},
   "source": [
    "## if anidado \n",
    "### Como se declara:\n",
    "if condicion_1:\n",
    "\n",
    "    print (\"Cumple 1\")\n",
    "    if condicion_2:\n",
    "        print (\"Cumple 2\")\n",
    "    else:\n",
    "        print (\"No cumple 2\")\n",
    "else:\n",
    "    print (\"No cumple 1\")\n",
    "### Estructura:"
   ]
  },
  {
   "cell_type": "code",
   "execution_count": 3,
   "id": "40445cb6",
   "metadata": {},
   "outputs": [
    {
     "name": "stdout",
     "output_type": "stream",
     "text": [
      "Inicio Anidado\n",
      "Cumple condición 1\n",
      "No cumple condición 2\n",
      "Fin\n",
      "Inicio Par, Impar o Cero\n",
      "El número es cero\n",
      "Fin\n"
     ]
    }
   ],
   "source": [
    "\n",
    "print (\"Inicio Anidado\")\n",
    "condicion_1 = True\n",
    "condicion_2 = False\n",
    "if condicion_1:\n",
    "    print (\"Cumple condición 1\")\n",
    "    if condicion_2:\n",
    "        print (\"Cumple condición 2\")\n",
    "    else:\n",
    "        print (\"No cumple condición 2\")\n",
    "else:\n",
    "    print (\"No cumple condición 1\")\n",
    "print (\"Fin\")\n",
    "\n",
    "### Ejemplo: Imprimir si un numero es par, impar o cer\n",
    "print (\"Inicio Par, Impar o Cero\")\n",
    "numero = 0  \n",
    "if numero > 0 or numero < 0:\n",
    "    if numero % 2 == 0: # Si el módulo de 2 es 0\n",
    "        print (\"El número es par\")\n",
    "    else:\n",
    "        print (\"El número es impar\")\n",
    "else:\n",
    "    print (\"El número es cero\")\n",
    "print (\"Fin\")\n",
    "\n"
   ]
  },
  {
   "cell_type": "markdown",
   "id": "85762805",
   "metadata": {},
   "source": [
    "### Declarar un ELIF\n",
    "if condicion_1:\n",
    "\n",
    "    print (\"Cumple 1\")\n",
    "elif condicion_2:\n",
    "\n",
    "    print (\"Cumple 2\")\n",
    "else:\n",
    "    print (\"No cumple 1 ni 2\")\n",
    "#### Estructura de un ELIF"
   ]
  },
  {
   "cell_type": "code",
   "execution_count": null,
   "id": "6f5f1c9d",
   "metadata": {},
   "outputs": [],
   "source": [
    "\n",
    "\n",
    "print (\"Inicio ELIF\")\n",
    "condicion_1 = False\n",
    "condicion_2 = True\n",
    "if condicion_1:\n",
    "    print (\"Cumple condición 1\")\n",
    "elif condicion_2:\n",
    "    print (\"Cumple condición 2\")\n",
    "else:\n",
    "    print (\"No cumple condición 1 ni 2\")\n",
    "print (\"Fin\")\n",
    "### Ejemplo: Determinar un valor posititvo, negativo o cero\n",
    "print (\"Inicio Positivo, Negativo o Cero\")\n",
    "numero = -1\n",
    "if numero > 0:\n",
    "    print (\"El número es positivo\")\n",
    "elif numero < 0:\n",
    "    print (\"El número es negativo\")\n",
    "else:\n",
    "    print (\"El número es cero\")\n",
    "\n"
   ]
  },
  {
   "cell_type": "markdown",
   "id": "924fb756",
   "metadata": {},
   "source": [
    "### Operador ternario\n",
    "#### Estructura"
   ]
  },
  {
   "cell_type": "code",
   "execution_count": null,
   "id": "7579e177",
   "metadata": {},
   "outputs": [],
   "source": [
    "print (\"Inicio Ternario\")\n",
    "condicion = True\n",
    "resultado = \"Cumple\" if condicion else \"No cumple\"\n",
    "print (resultado)\n",
    "print (\"Fin\")\n",
    "\n",
    "### Ejemplo: Imprimir si un número es par o impar\n",
    "print (\"Inicio Ternario Par, Impar\")\n",
    "numero = 3\n",
    "resultado = \"El número es par\" if numero % 2 == 0 else \"El número es impar\"\n",
    "print (resultado)\n",
    "print (\"Fin\")\n",
    "\n"
   ]
  },
  {
   "cell_type": "markdown",
   "id": "2b08b519",
   "metadata": {},
   "source": [
    "## TRUTHINESS"
   ]
  },
  {
   "cell_type": "code",
   "execution_count": null,
   "id": "f9bd9ca1",
   "metadata": {},
   "outputs": [],
   "source": [
    "print (\"Truthiness Enteros\")\n",
    "dividendo = int(input(\"Dividendo: \"))\n",
    "divisor = int(input(\"Divisor: \"))\n",
    "print (dividendo,divisor)\n",
    "if divisor: #divisor != 0\n",
    "    print (dividendo / divisor)\n",
    "else:\n",
    "    print (\"No se puede dividir entre cero\")\n",
    "print (\"Fin\")\n"
   ]
  },
  {
   "cell_type": "markdown",
   "id": "279813e6",
   "metadata": {},
   "source": [
    "### Flotante como condición"
   ]
  },
  {
   "cell_type": "code",
   "execution_count": null,
   "id": "2398eaff",
   "metadata": {},
   "outputs": [],
   "source": [
    "print (\"Truthiness Flotantes\")\n",
    "dividendo = float(input(\"Dividendo: \"))\n",
    "divisor = float(input(\"Divisor: \"))\n",
    "print (dividendo,divisor)\n",
    "if divisor: #divisor != 0.0\n",
    "    print (dividendo / divisor)\n",
    "else:\n",
    "    print (\"No se puede dividir entre cero\")\n",
    "print (\"Fin\")\n"
   ]
  },
  {
   "cell_type": "markdown",
   "id": "97cbb047",
   "metadata": {},
   "source": [
    "### Cadena como condición"
   ]
  },
  {
   "cell_type": "code",
   "execution_count": null,
   "id": "eab5ed21",
   "metadata": {},
   "outputs": [],
   "source": [
    "print (\"Truthiness Cadenas\")\n",
    "cadena = input(\"Cadena: \")\n",
    "print (cadena)\n",
    "if cadena: # len(cadena) != 0 or cadena != \"\" \n",
    "    print (\"La cadena no está vacía\")\n",
    "else:\n",
    "    print (\"La cadena está vacía\")\n",
    "print (\"Fin\")\n",
    "\n"
   ]
  },
  {
   "cell_type": "markdown",
   "id": "60dba565",
   "metadata": {},
   "source": [
    "### En tuplas"
   ]
  },
  {
   "cell_type": "code",
   "execution_count": null,
   "id": "d3a59797",
   "metadata": {},
   "outputs": [],
   "source": [
    "\n",
    "print (\"Truthiness Tuplas\")\n",
    "tupla = tuple(input(\"Tupla: \"))\n",
    "print (tupla)\n",
    "if tupla: # len(tupla) != 0 or tupla != ()\n",
    "    print (\"La tupla no está vacía\")\n",
    "else:\n",
    "    print (\"La tupla está vacía\")\n",
    "print (\"Fin\")"
   ]
  },
  {
   "cell_type": "markdown",
   "id": "2f4bf59a",
   "metadata": {},
   "source": [
    "\n",
    "### En listas"
   ]
  },
  {
   "cell_type": "code",
   "execution_count": null,
   "id": "4546be78",
   "metadata": {},
   "outputs": [],
   "source": [
    "print (\"Truthiness Listas\")\n",
    "lista = list(input(\"Lista: \"))\n",
    "print (lista)\n",
    "if lista: # len(lista) != 0 or lista != []\n",
    "    print (\"La lista no está vacía\")\n",
    "else:\n",
    "    print (\"La lista está vacía\")\n",
    "print (\"Fin\")"
   ]
  },
  {
   "cell_type": "markdown",
   "id": "c2a94d67",
   "metadata": {},
   "source": [
    "### En conjuntos"
   ]
  },
  {
   "cell_type": "code",
   "execution_count": null,
   "id": "a35c9199",
   "metadata": {},
   "outputs": [],
   "source": [
    "\n",
    "print (\"Truthiness Conjuntos\")\n",
    "conjunto = set(input(\"Conjunto: \"))\n",
    "print (conjunto)\n",
    "if conjunto: # len(conjunto) != 0 or conjunto != set()\n",
    "    print (\"El conjunto no está vacío\")\n",
    "else:\n",
    "    print (\"El conjunto está vacío\")\n",
    "print (\"Fin\")"
   ]
  },
  {
   "cell_type": "markdown",
   "id": "61a0c2ee",
   "metadata": {},
   "source": [
    "### En diccionarios"
   ]
  },
  {
   "cell_type": "code",
   "execution_count": null,
   "id": "8dec7743",
   "metadata": {},
   "outputs": [],
   "source": [
    "print (\"Truthiness Diccionarios\")\n",
    "diccionario = {}\n",
    "clave = input(\"Clave: \")\n",
    "valor = input(\"Valor: \")\n",
    "if clave:\n",
    "  diccionario = {clave:valor}\n",
    "print (diccionario)\n",
    "if diccionario: # diccionario != {}\n",
    "    print (\"El diccionario no está vacío\")\n",
    "else:\n",
    "    print (\"El diccionario está vacío\")\n",
    "print (\"Fin\")"
   ]
  },
  {
   "cell_type": "markdown",
   "id": "9f1f118f",
   "metadata": {},
   "source": [
    "## NONE"
   ]
  },
  {
   "cell_type": "code",
   "execution_count": null,
   "id": "9a0fbe61",
   "metadata": {},
   "outputs": [],
   "source": [
    "print (\"Truthiness None\")\n",
    "valor = None\n",
    "print (valor, type(valor))\n",
    "if valor: # valor != None\n",
    "    print (\"El valor no es None\")\n",
    "else:\n",
    "    print (\"El valor es None\")\n",
    "print (\"Fin\")\n",
    "### Con operadores ternarios\n",
    "entero = int(input(\"Entero: \"))\n",
    "resultado = \"Diferente de 0\" if entero else \"Igual a 0\"\n",
    "print (resultado)\n",
    "flotante = float(input(\"Flotante: \"))\n",
    "resultado = \"Diferente de 0.0\" if flotante else \"Igual a 0.0\"\n",
    "print (resultado)\n",
    "cadena = input(\"Cadena: \")\n",
    "resultado = \"No está vacía\" if cadena else \"Está vacía\"\n",
    "print (resultado)\n"
   ]
  },
  {
   "cell_type": "markdown",
   "id": "2ef2ea75",
   "metadata": {},
   "source": [
    "## EJEMPLOS DE APLICACIÓN\n",
    "\n",
    "### Ejemplo de un dispositico que mode la tempreratura para encender un ventilador"
   ]
  },
  {
   "cell_type": "code",
   "execution_count": null,
   "id": "b4072bd0",
   "metadata": {},
   "outputs": [],
   "source": [
    "temperatura = float(input(\"Temperatura: \"))\n",
    "if temperatura > 30:\n",
    "    print (\"Encender ventilador\")\n",
    "elif temperatura < 20:\n",
    "    print (\"Apagar ventilador\")\n"
   ]
  },
  {
   "cell_type": "markdown",
   "id": "62032e55",
   "metadata": {},
   "source": [
    "### Ejemplo: Saber si en una cesta estan manzanas y sino comprar"
   ]
  },
  {
   "cell_type": "code",
   "execution_count": null,
   "id": "9c320f6d",
   "metadata": {},
   "outputs": [],
   "source": [
    "\n",
    "#### Con un if\n",
    "cesta = ['🍎','🍑','🍓','🍉']\n",
    "print (cesta)\n",
    "if '🍎' in cesta:\n",
    "    print (f\"Hay {cesta.count('🍎')} manzanas\")\n",
    "else:\n",
    "    cesta.extend(['🍎','🍎'])\n",
    "    print (cesta)\n",
    "#### Con un operador ternario\n",
    "cesta = ['🍑','🍓','🍉']\n",
    "print (cesta)\n",
    "resultado = f\"Hay {cesta.count('🍎')} manzanas\" if '🍎' in cesta else cesta.extend(['🍎','🍎'])\n",
    "print (resultado)\n",
    "print (cesta)\n"
   ]
  },
  {
   "cell_type": "markdown",
   "id": "6e8b2dd7",
   "metadata": {},
   "source": [
    "\n",
    "### Ejemplo: Saber si un animal es mamífero"
   ]
  },
  {
   "cell_type": "code",
   "execution_count": null,
   "id": "0e4acf05",
   "metadata": {},
   "outputs": [],
   "source": [
    "\n",
    "animal = {'especie':'🐶', 'nombre': 'Firulais', 'mamifero': True}\n",
    "print (animal)\n",
    "if animal.get('mamifero'): # animal['mamifero']\n",
    "    print (\"Es un mamífero\")\n",
    "else:\n",
    "    print (\"No es un mamífero\")\n"
   ]
  },
  {
   "cell_type": "markdown",
   "id": "66435228",
   "metadata": {},
   "source": [
    "\n",
    "### Ejemplo: Verificar si dos conjuntos son iguales"
   ]
  },
  {
   "cell_type": "code",
   "execution_count": null,
   "id": "28b9a794",
   "metadata": {},
   "outputs": [],
   "source": [
    "\n",
    "conjunto_1 = {'⚽','🏀','🏐'}\n",
    "conjunto_2 = {'🏈','🏉','🏓'}\n",
    "print (conjunto_1, conjunto_2)\n",
    "if conjunto_1.isdisjoint(conjunto_2): # len(conjunto_1.intersection(conjunto_2)) == 0\n",
    "    conjunto_1.update(conjunto_2)\n",
    "    print (conjunto_1)\n",
    "else:\n",
    "    print (\"Tienen elementos en común\")\n",
    "    print (conjunto_1.intersection(conjunto_2))\n",
    "\n",
    "\n"
   ]
  },
  {
   "cell_type": "markdown",
   "id": "b5cf52a3",
   "metadata": {},
   "source": [
    "\n",
    "### Ejemplo: Validar si un correo es valido\n",
    "#### Solucion anidada"
   ]
  },
  {
   "cell_type": "code",
   "execution_count": null,
   "id": "6e96d9c3",
   "metadata": {},
   "outputs": [],
   "source": [
    "correo = input(\"Correo: \")\n",
    "if \"@\" in correo and \".\" in correo and correo.count(\"@\") == 1:\n",
    "    if correo.find(\"@\") < correo.rfind(\".\") and correo.find(\"@\") > 0 and correo.rfind(\".\") < len(correo) - 1:\n",
    "        if correo.rfind(\".\") - correo.find(\"@\") > 1:\n",
    "            if correo.find(\".\") - correo.find(\"@\") > 1:\n",
    "                print (\"El correo es válido\")\n",
    "            else:\n",
    "                print (\"El correo no es válido\")\n",
    "        else:\n",
    "            print (\"El correo no es válido\")\n",
    "    else:\n",
    "        print (\"El correo no es válido\")\n",
    "else:\n",
    "    print (\"El correo no es válido\")\n",
    "#### Solucion con elif\n",
    "correo = input(\"Correo: \")\n",
    "if \"@\" not in correo or \".\" not in correo or correo.count(\"@\") != 1:\n",
    "    print(\"El correo no es válido\")\n",
    "elif correo.find(\"@\") >= correo.rfind(\".\") or correo.find(\"@\") == 0 or correo.rfind(\".\") == len(correo) - 1:\n",
    "    print(\"El correo no es válido\")\n",
    "elif correo.rfind(\".\") - correo.find(\"@\") <= 1:\n",
    "    print(\"El correo no es válido\")\n",
    "elif correo.find(\".\") - correo.find(\"@\") == 1:\n",
    "    print(\"El correo no es válido\")\n",
    "else:\n",
    "    print(\"El correo es válido\")"
   ]
  }
 ],
 "metadata": {
  "kernelspec": {
   "display_name": "Python 3",
   "language": "python",
   "name": "python3"
  },
  "language_info": {
   "codemirror_mode": {
    "name": "ipython",
    "version": 3
   },
   "file_extension": ".py",
   "mimetype": "text/x-python",
   "name": "python",
   "nbconvert_exporter": "python",
   "pygments_lexer": "ipython3",
   "version": "3.13.3"
  }
 },
 "nbformat": 4,
 "nbformat_minor": 5
}
