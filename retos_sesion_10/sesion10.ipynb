{
 "cells": [
  {
   "cell_type": "markdown",
   "id": "d2ecc69a",
   "metadata": {},
   "source": [
    "# CONJUNTOS"
   ]
  },
  {
   "cell_type": "markdown",
   "id": "807425cb",
   "metadata": {},
   "source": [
    "## Tipos de conjuntos"
   ]
  },
  {
   "cell_type": "code",
   "execution_count": 7,
   "id": "0a823bf6",
   "metadata": {},
   "outputs": [
    {
     "name": "stdout",
     "output_type": "stream",
     "text": [
      "Conjunto de enteros\n",
      "{1, 2, 3, 4, 5}\n",
      "<class 'set'>\n",
      "Conjunto de cadenas\n",
      "{'🌭', '🍕', '🍟', '🍔'}\n",
      "<class 'set'>\n",
      "Conjunto mixto\n",
      "{1, 3.14, '☕'}\n",
      "<class 'set'>\n",
      "Conjunto vacío\n",
      "set()\n",
      "<class 'set'>\n",
      "Conjunto a partir de la cadena\n",
      "{'o', 'a', 'n', 'H', ' ', 'l', 'M', 'd', 'u'}\n",
      "<class 'set'>\n",
      "Conjunto a partir de una tupla\n",
      "{1, 2, 3, 4, 5}\n",
      "<class 'set'>\n",
      "Conjunto a partir de una lista\n",
      "{False, True}\n",
      "<class 'set'>\n",
      "Conjunto por comprensión\n",
      "{'🍕', '🍟', '🍔'}\n",
      "<class 'set'>\n"
     ]
    }
   ],
   "source": [
    "\n",
    "print (\"Conjunto de enteros\")\n",
    "conjunto = {1, 2, 3, 4, 5}\n",
    "print(conjunto) \n",
    "print(type(conjunto))\n",
    "print (\"Conjunto de cadenas\")\n",
    "conjunto = {'🍕','🍔','🍟','🌭'}\n",
    "print(conjunto)\n",
    "print(type(conjunto))\n",
    "print (\"Conjunto mixto\")\n",
    "conjunto = {1, True, 3.14, '☕'}\n",
    "print(conjunto)\n",
    "print(type(conjunto))\n",
    "print (\"Conjunto vacío\")\n",
    "conjunto = set()\n",
    "print(conjunto)\n",
    "print(type(conjunto))\n",
    "print (\"Conjunto a partir de la cadena\")\n",
    "cadena = 'Hola Mundo'\n",
    "conjunto = set(cadena)\n",
    "print(conjunto)\n",
    "print(type(conjunto))\n",
    "print (\"Conjunto a partir de una tupla\")\n",
    "tupla = (1, 2, 3, 4, 5, 5)\n",
    "conjunto = set(tupla)\n",
    "print(conjunto)\n",
    "print(type(conjunto))\n",
    "print (\"Conjunto a partir de una lista\")\n",
    "lista = [True, False, 0, 1]\n",
    "conjunto = set(lista)\n",
    "print(conjunto)\n",
    "print(type(conjunto))\n",
    "print (\"Conjunto por comprensión\")\n",
    "conjunto = {x for x in '🍕🍔🍟🍕🍔🍟🍔🍟'}\n",
    "print(conjunto)\n",
    "print(type(conjunto))\n"
   ]
  },
  {
   "cell_type": "markdown",
   "id": "024cb5df",
   "metadata": {},
   "source": [
    "## Comando \"SET\"\n",
    "### Debido a que no funciona como los demas, por sus caractersticas"
   ]
  },
  {
   "cell_type": "code",
   "execution_count": 8,
   "id": "6946973f",
   "metadata": {},
   "outputs": [
    {
     "ename": "TypeError",
     "evalue": "unsupported operand type(s) for +: 'set' and 'set'",
     "output_type": "error",
     "traceback": [
      "\u001b[31m---------------------------------------------------------------------------\u001b[39m",
      "\u001b[31mTypeError\u001b[39m                                 Traceback (most recent call last)",
      "\u001b[36mCell\u001b[39m\u001b[36m \u001b[39m\u001b[32mIn[8]\u001b[39m\u001b[32m, line 7\u001b[39m\n\u001b[32m      5\u001b[39m conjunto1 = {\u001b[32m1\u001b[39m, \u001b[32m2\u001b[39m, \u001b[32m3\u001b[39m}\n\u001b[32m      6\u001b[39m conjunto2 = {\u001b[32m4\u001b[39m, \u001b[32m5\u001b[39m, \u001b[32m6\u001b[39m}\n\u001b[32m----> \u001b[39m\u001b[32m7\u001b[39m \u001b[38;5;28mprint\u001b[39m(\u001b[43mconjunto1\u001b[49m\u001b[43m \u001b[49m\u001b[43m+\u001b[49m\u001b[43m \u001b[49m\u001b[43mconjunto2\u001b[49m)\n\u001b[32m      8\u001b[39m conjunto = {\u001b[32m1\u001b[39m, \u001b[32m2\u001b[39m, \u001b[32m3\u001b[39m}\n\u001b[32m      9\u001b[39m \u001b[38;5;28mprint\u001b[39m(conjunto * \u001b[32m3\u001b[39m)\n",
      "\u001b[31mTypeError\u001b[39m: unsupported operand type(s) for +: 'set' and 'set'"
     ]
    }
   ],
   "source": [
    "conjunto = {1, 2, 3, 4, 5}\n",
    "#print(conjunto[0]) \n",
    "conjunto = {1, 2, 3, 4, 5}\n",
    "#print(conjunto[0:3]) # TypeE\n",
    "conjunto1 = {1, 2, 3}\n",
    "conjunto2 = {4, 5, 6}\n",
    "print(conjunto1 + conjunto2)\n",
    "conjunto = {1, 2, 3}\n",
    "print(conjunto * 3)\n",
    "\n",
    "\n"
   ]
  },
  {
   "cell_type": "markdown",
   "id": "8b6db29f",
   "metadata": {},
   "source": [
    "## Metodos de los conjuntos"
   ]
  },
  {
   "cell_type": "code",
   "execution_count": null,
   "id": "70db8fe1",
   "metadata": {},
   "outputs": [],
   "source": [
    "print (\"Método add()\")\n",
    "conjunto = {'🍕','🍔','🍟','🌭'}\n",
    "print (conjunto)\n",
    "conjunto.add('🥗')\n",
    "print(conjunto) \n",
    "print (\"Método update()\")\n",
    "conjunto = {'🍕','🍔','🍟','🌭'}\n",
    "print (conjunto)\n",
    "conjunto.update(['🥤','🍦'])\n",
    "print(conjunto) \n",
    "conjunto.update('🍩🍪')\n",
    "print(conjunto) \n",
    "conjunto.update(('🍫','🍬'))\n",
    "print(conjunto)\n",
    "conjunto.update({'🍭','🍮'})\n",
    "print(conjunto)\n",
    "\n"
   ]
  },
  {
   "cell_type": "markdown",
   "id": "1f344571",
   "metadata": {},
   "source": [
    "## Metodos de eliminación"
   ]
  },
  {
   "cell_type": "code",
   "execution_count": null,
   "id": "685d237c",
   "metadata": {},
   "outputs": [
    {
     "name": "stdout",
     "output_type": "stream",
     "text": [
      "Método remove()\n",
      "{'🌭', '🍕', '🍟', '🍔'}\n",
      "{'🌭', '🍕', '🍟'}\n",
      "Método discard()\n",
      "{'🌭', '🍕', '🍟', '🍔'}\n",
      "{'🌭', '🍕', '🍟'}\n",
      "{'🌭', '🍕', '🍟'}\n",
      "Método pop()\n",
      "{'🍟', '🍦', '🍔', '🌭', '🍕', '🥤'}\n",
      "🍟\n",
      "{'🍦', '🍔', '🌭', '🍕', '🥤'}\n",
      "🍦\n",
      "{'🍔', '🌭', '🍕', '🥤'}\n",
      "Método clear()\n",
      "{'🌭', '🍕', '🍟', '🍔'}\n",
      "set()\n"
     ]
    }
   ],
   "source": [
    "print (\"Método remove()\")\n",
    "conjunto = {'🍕','🍔','🍟','🌭'} \n",
    "print (conjunto)\n",
    "conjunto.remove('🍔')\n",
    "print(conjunto)\n",
    "print (\"Método discard()\")\n",
    "conjunto = {'🍕','🍔','🍟','🌭'}\n",
    "print (conjunto)\n",
    "conjunto.discard('🍔')\n",
    "print(conjunto)\n",
    "conjunto.discard('🍔')\n",
    "print(conjunto)\n",
    "print (\"Método pop()\")\n",
    "conjunto = {'🍕','🍔','🍟','🌭', '🥤','🍦'}\n",
    "print (conjunto)\n",
    "print(conjunto.pop())\n",
    "print(conjunto)\n",
    "print(conjunto.pop())\n",
    "print(conjunto)\n",
    "print (\"Método clear()\")\n",
    "conjunto = {'🍕','🍔','🍟','🌭'}\n",
    "print (conjunto)\n",
    "conjunto.clear()\n",
    "print(conjunto)\n"
   ]
  },
  {
   "cell_type": "markdown",
   "id": "c3accc38",
   "metadata": {},
   "source": [
    "## Operaciones con conjuntos"
   ]
  },
  {
   "cell_type": "code",
   "execution_count": null,
   "id": "e2556144",
   "metadata": {},
   "outputs": [
    {
     "name": "stdout",
     "output_type": "stream",
     "text": [
      "Método union()\n",
      "{'🍔', '🍟', '🥤'} {'🍨', '🍕', '🥤'}\n",
      "{'🍕', '🍔', '🍨', '🍟', '🥤'}\n",
      "Método intersection()\n",
      "{'🍔', '🍟', '🥤'} {'🍨', '🍕', '🥤'}\n",
      "{'🥤'}\n",
      "Método difference()\n",
      "1: {'🍔', '🍟', '🥤'} 2: {'🍨', '🍕', '🥤'}\n",
      "1 y 2: {'🍟', '🍔'}\n",
      "2 y 1: {'🍨', '🍕'}\n",
      "Método symmetric_difference()\n",
      "{'🍔', '🍟', '🥤'} {'🍨', '🍕', '🥤'}\n",
      "{'🍟', '🍨', '🍔', '🍕'}\n"
     ]
    }
   ],
   "source": [
    "\n",
    "print (\"Método union()\")\n",
    "conjunto1 = {'🍔','🍟', '🥤'}\n",
    "conjunto2 = {'🍕','🍨','🥤'}\n",
    "print (conjunto1, conjunto2)\n",
    "union = conjunto1.union(conjunto2)\n",
    "print(union)\n",
    "print (\"Método intersection()\")\n",
    "conjunto1 = {'🍔','🍟', '🥤'}\n",
    "conjunto2 = {'🍕','🍨','🥤'}\n",
    "print (conjunto1, conjunto2)\n",
    "interseccion = conjunto1.intersection(conjunto2)\n",
    "print(interseccion)\n",
    "print (\"Método difference()\")\n",
    "conjunto1 = {'🍔','🍟', '🥤'}\n",
    "conjunto2 = {'🍕','🍨','🥤'}\n",
    "print (\"1:\",conjunto1, \"2:\",conjunto2)\n",
    "diferencia = conjunto1.difference(conjunto2)\n",
    "print(\"1 y 2:\",diferencia)\n",
    "diferencia = conjunto2.difference(conjunto1)\n",
    "print(\"2 y 1:\",diferencia)\n",
    "print (\"Método symmetric_difference()\")\n",
    "conjunto1 = {'🍔','🍟', '🥤'}\n",
    "conjunto2 = {'🍕','🍨','🥤'}\n",
    "print (conjunto1, conjunto2)\n",
    "diferencia_simetrica = conjunto1.symmetric_difference(conjunto2)\n",
    "print(diferencia_simetrica)\n"
   ]
  },
  {
   "cell_type": "markdown",
   "id": "34d2b0fa",
   "metadata": {},
   "source": [
    "\n",
    "## Metodos de asignación"
   ]
  },
  {
   "cell_type": "code",
   "execution_count": null,
   "id": "cc6c0474",
   "metadata": {},
   "outputs": [
    {
     "name": "stdout",
     "output_type": "stream",
     "text": [
      "Método intersection_update()\n",
      "{'🍔', '🍟', '🥤'} {'🍨', '🍕', '🥤'}\n",
      "{'🥤'}\n",
      "Método difference_update()\n",
      "1: {'🍔', '🍟', '🥤'} 2: {'🍨', '🍕', '🥤'}\n",
      "1: {'🍔', '🍟'} 2: {'🍨', '🍕', '🥤'}\n",
      "Método difference_update()\n",
      "1: {'🍔', '🍟', '🥤'} 2: {'🍨', '🍕', '🥤'}\n",
      "1: {'🍔', '🍟'} 2: {'🍨', '🍕', '🥤'}\n",
      "Método symmetric_difference_update()\n",
      "{'🍔', '🍟', '🥤'} {'🍨', '🍕', '🥤'}\n",
      "{'🍨', '🍕', '🍔', '🍟'}\n"
     ]
    }
   ],
   "source": [
    "print (\"Método intersection_update()\")\n",
    "conjunto1 = {'🍔','🍟', '🥤'}\n",
    "conjunto2 = {'🍕','🍨','🥤'}\n",
    "print (conjunto1, conjunto2)\n",
    "conjunto1.intersection_update(conjunto2)\n",
    "print(conjunto1)\n",
    "print (\"Método difference_update()\")\n",
    "conjunto1 = {'🍔','🍟', '🥤'}\n",
    "conjunto2 = {'🍕','🍨','🥤'}\n",
    "print (\"1:\",conjunto1, \"2:\",conjunto2)\n",
    "conjunto1.difference_update(conjunto2)\n",
    "print (\"1:\",conjunto1, \"2:\",conjunto2)\n",
    "print (\"Método difference_update()\")\n",
    "conjunto1 = {'🍔','🍟', '🥤'}\n",
    "conjunto2 = {'🍕','🍨','🥤'}\n",
    "print (\"1:\",conjunto1, \"2:\",conjunto2)\n",
    "conjunto1.difference_update(conjunto2)\n",
    "print (\"1:\",conjunto1, \"2:\",conjunto2)\n",
    "print (\"Método symmetric_difference_update()\")\n",
    "conjunto1 = {'🍔','🍟', '🥤'}\n",
    "conjunto2 = {'🍕','🍨','🥤'}\n",
    "print (conjunto1, conjunto2)\n",
    "conjunto1.symmetric_difference_update(conjunto2)\n",
    "print(conjunto1)\n"
   ]
  },
  {
   "cell_type": "markdown",
   "id": "0e049f23",
   "metadata": {},
   "source": [
    "\n",
    "## Funciones de conjuntos"
   ]
  },
  {
   "cell_type": "code",
   "execution_count": null,
   "id": "661d9b7f",
   "metadata": {},
   "outputs": [
    {
     "name": "stdout",
     "output_type": "stream",
     "text": [
      "Función len()\n",
      "{'🌭', '🍕', '🍟', '🍔'}\n",
      "4\n",
      "Función max()\n",
      "{1, 2, 3, 4, 5}\n",
      "5\n",
      "{'🌭', '🍕', '🍟', '🍔'}\n",
      "🍟\n",
      "Función min()\n",
      "{1, 2, 3, 4, 5}\n",
      "1\n",
      "{'🍨', '🍔', '🍟', '🍕'}\n",
      "🍔\n",
      "Función sum()\n",
      "{1, 2, 3, 4, 5}\n",
      "15\n"
     ]
    }
   ],
   "source": [
    "print (\"Función len()\")\n",
    "conjunto = {'🍕','🍔','🍟','🌭'}\n",
    "print (conjunto)\n",
    "print(len(conjunto))\n",
    "print (\"Función max()\")\n",
    "conjunto = {1, 2, 3, 4, 5}\n",
    "print (conjunto)\n",
    "print (max(conjunto))\n",
    "conjunto = {'🍕','🍔','🍟','🌭'}\n",
    "print (conjunto)\n",
    "print(max(conjunto))\n",
    "print (\"Función min()\")\n",
    "conjunto = {1, 2, 3, 4, 5}\n",
    "print (conjunto)\n",
    "print (min(conjunto))\n",
    "conjunto = {'🍨','🍔','🍟','🍕'}\n",
    "print (conjunto)\n",
    "print(min(conjunto))\n",
    "print (\"Función sum()\")\n",
    "conjunto = {1, 2, 3, 4, 5}\n",
    "print (conjunto)\n",
    "print (sum(conjunto))"
   ]
  },
  {
   "cell_type": "markdown",
   "id": "9b32f2a3",
   "metadata": {},
   "source": [
    "\n",
    "## Operadores con conjuntos"
   ]
  },
  {
   "cell_type": "code",
   "execution_count": null,
   "id": "773d6bdd",
   "metadata": {},
   "outputs": [
    {
     "name": "stdout",
     "output_type": "stream",
     "text": [
      "Operador |\n",
      "{'🍔', '🍟', '🥤'} {'🍨', '🍕', '🥤'}\n",
      "{'🍕', '🍔', '🍨', '🍟', '🥤'}\n",
      "Operador &\n",
      "{'🍔', '🍟', '🥤'} {'🍨', '🍕', '🥤'}\n",
      "{'🥤'}\n",
      "Operador -\n",
      "1: {'🍔', '🍟', '🥤'} 2: {'🍨', '🍕', '🥤'}\n",
      "1 - 2: {'🍟', '🍔'}\n",
      "2 - 1: {'🍨', '🍕'}\n",
      "Operador ^\n",
      "{'🍔', '🍟', '🥤'} {'🍨', '🍕', '🥤'}\n",
      "{'🍟', '🍨', '🍔', '🍕'}\n"
     ]
    }
   ],
   "source": [
    "\n",
    "print (\"Operador |\")\n",
    "conjunto1 = {'🍔','🍟', '🥤'}\n",
    "conjunto2 = {'🍕','🍨','🥤'}\n",
    "print (conjunto1, conjunto2)\n",
    "union = conjunto1 | conjunto2\n",
    "print(union)\n",
    "print (\"Operador &\")\n",
    "conjunto1 = {'🍔','🍟', '🥤'}\n",
    "conjunto2 = {'🍕','🍨','🥤'}\n",
    "print (conjunto1, conjunto2)\n",
    "interseccion = conjunto1 & conjunto2\n",
    "print(interseccion)\n",
    "print (\"Operador -\")\n",
    "conjunto1 = {'🍔','🍟', '🥤'}\n",
    "conjunto2 = {'🍕','🍨','🥤'}\n",
    "print (\"1:\",conjunto1, \"2:\",conjunto2)\n",
    "diferencia = conjunto1 - conjunto2\n",
    "print(\"1 - 2:\",diferencia)\n",
    "diferencia = conjunto2 - conjunto1\n",
    "print(\"2 - 1:\",diferencia)\n",
    "print (\"Operador ^\")\n",
    "conjunto1 = {'🍔','🍟', '🥤'}\n",
    "conjunto2 = {'🍕','🍨','🥤'}\n",
    "print (conjunto1, conjunto2)\n",
    "diferencia_simetrica = conjunto1 ^ conjunto2\n",
    "print(diferencia_simetrica)"
   ]
  },
  {
   "cell_type": "markdown",
   "id": "56096d98",
   "metadata": {},
   "source": [
    "## Metodos de busqueda y copia"
   ]
  },
  {
   "cell_type": "code",
   "execution_count": null,
   "id": "12cdc6a7",
   "metadata": {},
   "outputs": [
    {
     "name": "stdout",
     "output_type": "stream",
     "text": [
      "Método issubset()\n",
      "{'🍔', '🍟', '🥤'} {'🍨', '🍕', '🥤'} {'🍟', '🍔'}\n",
      "False\n",
      "True\n",
      "Método issuperset()\n",
      "{'🍔', '🍟', '🥤'} {'🍨', '🍕', '🥤'} {'🍟', '🍔'}\n",
      "False\n",
      "True\n",
      "Método isdisjoint()\n",
      "{'🍔', '🍟', '🥤'} {'🍨', '🍕'} {'🍟', '🍔'}\n",
      "True\n",
      "False\n",
      "Asignación por referencia\n",
      "{'🌭', '🍕', '🍟', '🍔'}\n",
      "{'🥗', '🍟', '🍔', '🌭', '🍕'}\n",
      "{'🥗', '🍟', '🍔', '🌭', '🍕'}\n",
      "Método copy()\n",
      "{'🌭', '🍕', '🍟', '🍔'}\n",
      "{'🌭', '🍕', '🍟', '🍔'}\n",
      "{'🥗', '🍟', '🍔', '🌭', '🍕'}\n"
     ]
    }
   ],
   "source": [
    "\n",
    "## Metodos de busqueda\n",
    "print (\"Método issubset()\")\n",
    "conjunto1 = {'🍔','🍟', '🥤'}\n",
    "conjunto2 = {'🍕','🍨','🥤'}\n",
    "conjunto3 = {'🍔','🍟'}\n",
    "print (conjunto1, conjunto2,conjunto3)\n",
    "# ¿El conjunto1 es subconjunto del conjunto2?\n",
    "print(conjunto1.issubset(conjunto2))\n",
    "# ¿El conjunto3 es subconjunto del conjunto1?\n",
    "print(conjunto3.issubset(conjunto1))\n",
    "print (\"Método issuperset()\")\n",
    "conjunto1 = {'🍔','🍟', '🥤'}\n",
    "conjunto2 = {'🍕','🍨','🥤'}\n",
    "conjunto3 = {'🍔','🍟'}\n",
    "print (conjunto1, conjunto2,conjunto3)\n",
    "# ¿El conjunto1 es superconjunto del conjunto2?\n",
    "print(conjunto1.issuperset(conjunto2)) \n",
    "# ¿El conjunto1 es superconjunto del conjunto2?\n",
    "print(conjunto1.issuperset(conjunto3)) \n",
    "print (\"Método isdisjoint()\")\n",
    "conjunto1 = {'🍔','🍟', '🥤'}\n",
    "conjunto2 = {'🍕','🍨'}\n",
    "conjunto3 = {'🍔','🍟'}\n",
    "print (conjunto1, conjunto2,conjunto3)\n",
    "# ¿El conjunto1 no tiene elementos en común con el conjunto2?\n",
    "print(conjunto1.isdisjoint(conjunto2))\n",
    "# ¿El conjunto1 no tiene elementos en común con el conjunto3?\n",
    "print(conjunto1.isdisjoint(conjunto3))\n",
    "\n",
    "##Metodo de copia\n",
    "print (\"Asignación por referencia\")\n",
    "conjunto = {'🍕','🍔','🍟','🌭'}\n",
    "print (conjunto)\n",
    "copia = conjunto\n",
    "copia.add('🥗')\n",
    "print(conjunto)\n",
    "print(copia)\n",
    "print (\"Método copy()\")\n",
    "conjunto = {'🍕','🍔','🍟','🌭'}\n",
    "print (conjunto)\n",
    "copia = conjunto.copy()\n",
    "copia.add('🥗')\n",
    "print(conjunto)\n",
    "print(copia)\n"
   ]
  },
  {
   "cell_type": "markdown",
   "id": "aa930cad",
   "metadata": {},
   "source": [
    "\n",
    "## Operadores para asignación con operaciones"
   ]
  },
  {
   "cell_type": "code",
   "execution_count": null,
   "id": "fcb20585",
   "metadata": {},
   "outputs": [],
   "source": [
    "print (\"Operador |= Unión\")\n",
    "conjunto1 = {'🍔','🍟', '🥤'}\n",
    "conjunto2 = {'🍕','🍨','🥤'}\n",
    "print (conjunto1, conjunto2)\n",
    "conjunto1 |= conjunto2\n",
    "print(conjunto1)\n",
    "print (\"Operador &= Intersección\")\n",
    "conjunto1 = {'🍔','🍟', '🥤'}\n",
    "conjunto2 = {'🍕','🍨','🥤'}\n",
    "print (conjunto1, conjunto2)\n",
    "conjunto1 &= conjunto2\n",
    "print(conjunto1)\n",
    "print (\"Operador -= Diferencia\")\n",
    "conjunto1 = {'🍔','🍟', '🥤'}\n",
    "conjunto2 = {'🍕','🍨','🥤'}\n",
    "print (\"1:\",conjunto1, \"2:\",conjunto2)\n",
    "conjunto1 -= conjunto2\n",
    "print(\"1 - 2:\",conjunto1)\n",
    "conjunto1 = {'🍔','🍟', '🥤'}\n",
    "conjunto2 -= conjunto1\n",
    "print(\"2 - 1:\",conjunto2)\n",
    "print (\"Operador ^= Diferencia simétrica\")\n",
    "conjunto1 = {'🍔','🍟', '🥤'}\n",
    "conjunto2 = {'🍕','🍨','🥤'}\n",
    "print (conjunto1, conjunto2)\n",
    "conjunto1 ^= conjunto2\n",
    "print(conjunto1)"
   ]
  },
  {
   "cell_type": "markdown",
   "id": "5c7d33e5",
   "metadata": {},
   "source": [
    "\n",
    "## Conjuntos inmutables"
   ]
  },
  {
   "cell_type": "code",
   "execution_count": null,
   "id": "2ec729da",
   "metadata": {},
   "outputs": [],
   "source": [
    "conjunto = frozenset({'🍔','🍕','🥗','🍟','🌭'})\n",
    "print(conjunto)\n",
    "print(type(conjunto))\n",
    "conjunto = frozenset({1, 2, 3, 4, 5})\n",
    "print(conjunto)\n",
    "#Nos sale erorres en operaciones comunes\n",
    "#print(conjunto.add(6)) # AttributeError: 'frozenset' object has no attribute 'add'\n",
    "#print(conjunto.remove(1)) # AttributeError: 'frozenset' object has no attribute 'remove'\n",
    "#print(conjunto |= {6}) "
   ]
  },
  {
   "cell_type": "markdown",
   "id": "cd89f205",
   "metadata": {},
   "source": [
    "## Conjuntos anidados"
   ]
  },
  {
   "cell_type": "markdown",
   "id": "f55ee5c5",
   "metadata": {},
   "source": [
    "print (\"Conjunto de conjuntos\")\n",
    "conjunto = {frozenset({'🍅','🍓','🍎'}), frozenset({'🍈','🍐','🍏'})}\n",
    "print(conjunto)\n",
    "print(type(conjunto))\n",
    "print (\"Conjunto de conjuntos\")\n",
    "conjunto = {{'🍅','🍓','🍎'}, {'🍈','🍐','🍏'}} #TypeError: unhashable type: 'set'\n",
    "print(conjunto)\n",
    "print(type(conjunto))"
   ]
  }
 ],
 "metadata": {
  "kernelspec": {
   "display_name": "Python 3",
   "language": "python",
   "name": "python3"
  },
  "language_info": {
   "codemirror_mode": {
    "name": "ipython",
    "version": 3
   },
   "file_extension": ".py",
   "mimetype": "text/x-python",
   "name": "python",
   "nbconvert_exporter": "python",
   "pygments_lexer": "ipython3",
   "version": "3.13.3"
  }
 },
 "nbformat": 4,
 "nbformat_minor": 5
}
